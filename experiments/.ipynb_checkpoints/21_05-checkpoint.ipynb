{
 "cells": [
  {
   "cell_type": "markdown",
   "metadata": {},
   "source": [
    "Convert a subset the competition dataset to nnunet format"
   ]
  },
  {
   "cell_type": "code",
   "execution_count": null,
   "metadata": {},
   "outputs": [],
   "source": [
    "\n"
   ]
  },
  {
   "cell_type": "code",
   "execution_count": 1,
   "metadata": {},
   "outputs": [
    {
     "name": "stdout",
     "output_type": "stream",
     "text": [
      "Loaded configuration for machine: nora\n"
     ]
    }
   ],
   "source": [
    "from src.config import config\n",
    "import os\n",
    "train_dir = os.path.join(config[\"DATA_DIR\"], \"3D_train_npz_random_10percent_16G/CT/CT_AdrenalTumor\")\n",
    "nnunet_train_dir = os.path.join(config[\"DATA_DIR\"], \"nnunet_raw\", \"Dataset001_CT_AdrenalTumor\")\n",
    "os.makedirs(nnunet_train_dir, exist_ok=True)\n",
    "os.makedirs(os.path.join(nnunet_train_dir, \"imagesTr\"), exist_ok=True)\n",
    "os.makedirs(os.path.join(nnunet_train_dir, \"imagesTs\"), exist_ok=True)\n",
    "os.makedirs(os.path.join(nnunet_train_dir, \"labelsTr\"), exist_ok=True)\n",
    "os.makedirs(os.path.join(nnunet_train_dir, \"labelsTs\"), exist_ok=True)\n"
   ]
  },
  {
   "cell_type": "code",
   "execution_count": 9,
   "metadata": {},
   "outputs": [
    {
     "name": "stdout",
     "output_type": "stream",
     "text": [
      "file : CT_AbdTumor_Adrenal_Ki67_Seg_041.npz\n",
      "(16, 512, 512) (16, 512, 512) [0.70703101 0.70703101 5.        ]\n",
      "file : CT_AbdTumor_Adrenal_Ki67_Seg_008.npz\n",
      "(56, 512, 512) (56, 512, 512) [0.88476598 0.88476598 1.25      ]\n",
      "file : CT_AbdTumor_Adrenal_Ki67_Seg_024.npz\n",
      "(28, 512, 512) (28, 512, 512) [0.72265619 0.72265619 5.        ]\n",
      "file : CT_AbdTumor_Adrenal_Ki67_Seg_011.npz\n",
      "(9, 512, 512) (9, 512, 512) [0.67968798 0.67968798 5.        ]\n",
      "file : CT_AbdTumor_Adrenal_Ki67_Seg_009.npz\n",
      "(29, 512, 512) (29, 512, 512) [0.703125 0.703125 2.5     ]\n"
     ]
    }
   ],
   "source": [
    "import numpy as np\n",
    "import nibabel as nib\n",
    "\n",
    "files = os.listdir(train_dir)\n",
    "for i, file in enumerate(files):\n",
    "    subset = \"Tr\" if i < len(files) * 0.8 else \"Ts\"\n",
    "    print(f\"file : {file}\")\n",
    "    data = np.load(os.path.join(train_dir, file), allow_pickle=True)\n",
    "    # print(data.keys()) # imgs, gts, spacing\n",
    "    imgs = data[\"imgs\"]\n",
    "    # add a channel dimension to the imgs\n",
    "    #imgs = np.expand_dims(imgs, axis=0)\n",
    "    nib_img = nib.Nifti1Image(imgs, affine=np.eye(4))\n",
    "    nib.save(nib_img, os.path.join(nnunet_train_dir, \"images\"+subset, file.replace(\".npz\", \"_0000.nii.gz\")))\n",
    "\n",
    "    gts = data[\"gts\"]\n",
    "    # only keep the label 1 for now\n",
    "    gts = (gts == 1).astype(np.int8)\n",
    "    nib_gt = nib.Nifti1Image(gts, affine=np.eye(4))\n",
    "    nib.save(nib_gt, os.path.join(nnunet_train_dir, \"labels\"+subset, file.replace(\".npz\", \".nii.gz\")))\n",
    "    spacing = data[\"spacing\"]\n",
    "    print(imgs.shape, gts.shape, spacing)\n",
    "    \n",
    "\n",
    "\n"
   ]
  },
  {
   "cell_type": "code",
   "execution_count": 10,
   "metadata": {},
   "outputs": [
    {
     "data": {
      "text/plain": [
       "['CT_AbdTumor_Adrenal_Ki67_Seg_041_0000.nii.gz',\n",
       " 'CT_AbdTumor_Adrenal_Ki67_Seg_011_0000.nii.gz',\n",
       " 'CT_AbdTumor_Adrenal_Ki67_Seg_008_0000.nii.gz',\n",
       " 'CT_AbdTumor_Adrenal_Ki67_Seg_024_0000.nii.gz']"
      ]
     },
     "execution_count": 10,
     "metadata": {},
     "output_type": "execute_result"
    }
   ],
   "source": [
    "os.listdir(os.path.join(nnunet_train_dir,\"imagesTr\"))\n",
    "    "
   ]
  },
  {
   "cell_type": "code",
   "execution_count": 8,
   "metadata": {},
   "outputs": [
    {
     "data": {
      "text/plain": [
       "['CT_AbdTumor_Adrenal_Ki67_Seg_041.npz',\n",
       " 'CT_AbdTumor_Adrenal_Ki67_Seg_008.npz',\n",
       " 'CT_AbdTumor_Adrenal_Ki67_Seg_024.npz',\n",
       " 'CT_AbdTumor_Adrenal_Ki67_Seg_011.npz',\n",
       " 'CT_AbdTumor_Adrenal_Ki67_Seg_009.npz']"
      ]
     },
     "execution_count": 8,
     "metadata": {},
     "output_type": "execute_result"
    }
   ],
   "source": [
    "os.listdir(train_dir)"
   ]
  },
  {
   "cell_type": "markdown",
   "metadata": {},
   "source": [
    "export nnUNet_raw= os.path.join(config[\"DATA_DIR\"], \"nnunet_raw\")\n",
    "export nnUNet_preprocessed=os.path.join(config[\"DATA_DIR\"], \"nnUNet_preprocessed\")\n",
    "export nnUNet_results=os.path.join(config[\"DATA_DIR\"], \"nnUNet_results\")"
   ]
  }
 ],
 "metadata": {
  "kernelspec": {
   "display_name": "segfm3d_2",
   "language": "python",
   "name": "segfm3d_2"
  },
  "language_info": {
   "codemirror_mode": {
    "name": "ipython",
    "version": 3
   },
   "file_extension": ".py",
   "mimetype": "text/x-python",
   "name": "python",
   "nbconvert_exporter": "python",
   "pygments_lexer": "ipython3",
   "version": "3.12.9"
  }
 },
 "nbformat": 4,
 "nbformat_minor": 4
}
