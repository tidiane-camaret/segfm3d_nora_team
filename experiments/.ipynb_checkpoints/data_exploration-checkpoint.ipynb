{
 "cells": [
  {
   "cell_type": "code",
   "execution_count": null,
   "id": "8ecbe199",
   "metadata": {},
   "outputs": [],
   "source": [
    "import numpy as np\n"
   ]
  },
  {
   "cell_type": "code",
   "execution_count": 10,
   "id": "a6bb9484",
   "metadata": {},
   "outputs": [
    {
     "name": "stdout",
     "output_type": "stream",
     "text": [
      "KeysView(NpzFile '/nfs/norasys/notebooks/camaret/segfm3d_nora_team/docker_submission/data/inputs/3D_val_gt/CT_AbdomenAtlas_BDMAP_00000006.npz' with keys: gts, boxes, spacing)\n"
     ]
    }
   ],
   "source": [
    "volume_path = \"/nfs/norasys/notebooks/camaret/segfm3d_nora_team/docker_submission/data/inputs/3D_val_gt/CT_AbdomenAtlas_BDMAP_00000006.npz\"\n",
    "vol = np.load(volume_path, allow_pickle=True)\n",
    "print(vol.keys())"
   ]
  },
  {
   "cell_type": "code",
   "execution_count": 11,
   "id": "a4442e4c",
   "metadata": {},
   "outputs": [
    {
     "name": "stdout",
     "output_type": "stream",
     "text": [
      "KeysView(NpzFile '/nfs/norasys/notebooks/camaret/segfm3d_nora_team/docker_submission/data/inputs/3D_val_npz/CT_AbdomenAtlas_BDMAP_00000006.npz' with keys: imgs, boxes, spacing, text_prompts)\n"
     ]
    }
   ],
   "source": [
    "volume_path = \"/nfs/norasys/notebooks/camaret/segfm3d_nora_team/docker_submission/data/inputs/3D_val_npz/CT_AbdomenAtlas_BDMAP_00000006.npz\"\n",
    "vol = np.load(volume_path, allow_pickle=True)\n",
    "print(vol.keys())"
   ]
  },
  {
   "cell_type": "code",
   "execution_count": 9,
   "id": "03fc0c72",
   "metadata": {},
   "outputs": [
    {
     "name": "stdout",
     "output_type": "stream",
     "text": [
      "KeysView(NpzFile '/nfs/norasys/notebooks/camaret/segfm3d_nora_team/docker_submission/inputs/CT_AbdomenAtlas_BDMAP_00000006.npz' with keys: imgs, boxes, spacing, text_prompts)\n"
     ]
    }
   ],
   "source": [
    "volume_path = \"/nfs/norasys/notebooks/camaret/segfm3d_nora_team/docker_submission/inputs/CT_AbdomenAtlas_BDMAP_00000006.npz\"\n",
    "vol = np.load(volume_path, allow_pickle=True)\n",
    "print(vol.keys())"
   ]
  }
 ],
 "metadata": {
  "kernelspec": {
   "display_name": "Python (segfm3d)",
   "language": "python",
   "name": "segfm3d"
  },
  "language_info": {
   "codemirror_mode": {
    "name": "ipython",
    "version": 3
   },
   "file_extension": ".py",
   "mimetype": "text/x-python",
   "name": "python",
   "nbconvert_exporter": "python",
   "pygments_lexer": "ipython3",
   "version": "3.12.9"
  }
 },
 "nbformat": 4,
 "nbformat_minor": 5
}
