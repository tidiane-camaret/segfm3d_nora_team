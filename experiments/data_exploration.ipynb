{
 "cells": [
  {
   "cell_type": "code",
   "execution_count": 1,
   "id": "8ecbe199",
   "metadata": {},
   "outputs": [],
   "source": [
    "import numpy as np\n"
   ]
  },
  {
   "cell_type": "code",
   "execution_count": 11,
   "id": "a6bb9484",
   "metadata": {},
   "outputs": [
    {
     "name": "stdout",
     "output_type": "stream",
     "text": [
      "KeysView(NpzFile '/nfs/data/nii/data1/Analysis/GPUnet/ANALYSIS_incontext/SegFM3D/results/nnint/MR_Spider_75_t1_ivd.npz' with keys: segs, all_segs)\n"
     ]
    }
   ],
   "source": [
    "volume_path = \"/nfs/data/nii/data1/Analysis/GPUnet/ANALYSIS_incontext/SegFM3D/results/nnint/MR_Spider_75_t1_ivd.npz\"\n",
    "vol = np.load(volume_path, allow_pickle=True)\n",
    "print(vol.keys())"
   ]
  },
  {
   "cell_type": "code",
   "execution_count": 12,
   "id": "9e50878e-fbf4-47fa-9d8f-ac3a5352fe56",
   "metadata": {},
   "outputs": [
    {
     "name": "stdout",
     "output_type": "stream",
     "text": [
      "(14, 462, 448)\n",
      "(array([0, 1, 2, 3, 4, 5, 6], dtype=uint8), array([2869918,    5067,    6410,    5234,    5128,    3541,    2366]))\n"
     ]
    }
   ],
   "source": [
    "print(vol[\"segs\"].shape)\n",
    "print(np.unique(vol[\"segs\"], return_counts=True))"
   ]
  },
  {
   "cell_type": "code",
   "execution_count": 3,
   "id": "a4442e4c",
   "metadata": {},
   "outputs": [
    {
     "ename": "FileNotFoundError",
     "evalue": "[Errno 2] No such file or directory: '/nfs/norasys/notebooks/camaret/segfm3d_nora_team/docker_submission/data/inputs/3D_val_npz/CT_AbdomenAtlas_BDMAP_00000006.npz'",
     "output_type": "error",
     "traceback": [
      "\u001b[31m---------------------------------------------------------------------------\u001b[39m",
      "\u001b[31mFileNotFoundError\u001b[39m                         Traceback (most recent call last)",
      "\u001b[36mCell\u001b[39m\u001b[36m \u001b[39m\u001b[32mIn[3]\u001b[39m\u001b[32m, line 2\u001b[39m\n\u001b[32m      1\u001b[39m volume_path = \u001b[33m\"\u001b[39m\u001b[33m/nfs/norasys/notebooks/camaret/segfm3d_nora_team/docker_submission/data/inputs/3D_val_npz/CT_AbdomenAtlas_BDMAP_00000006.npz\u001b[39m\u001b[33m\"\u001b[39m\n\u001b[32m----> \u001b[39m\u001b[32m2\u001b[39m vol = \u001b[43mnp\u001b[49m\u001b[43m.\u001b[49m\u001b[43mload\u001b[49m\u001b[43m(\u001b[49m\u001b[43mvolume_path\u001b[49m\u001b[43m,\u001b[49m\u001b[43m \u001b[49m\u001b[43mallow_pickle\u001b[49m\u001b[43m=\u001b[49m\u001b[38;5;28;43;01mTrue\u001b[39;49;00m\u001b[43m)\u001b[49m\n\u001b[32m      3\u001b[39m \u001b[38;5;28mprint\u001b[39m(vol.keys())\n",
      "\u001b[36mFile \u001b[39m\u001b[32m/software/anaconda3/envs/segfm3d_2/lib/python3.12/site-packages/numpy/lib/npyio.py:427\u001b[39m, in \u001b[36mload\u001b[39m\u001b[34m(file, mmap_mode, allow_pickle, fix_imports, encoding, max_header_size)\u001b[39m\n\u001b[32m    425\u001b[39m     own_fid = \u001b[38;5;28;01mFalse\u001b[39;00m\n\u001b[32m    426\u001b[39m \u001b[38;5;28;01melse\u001b[39;00m:\n\u001b[32m--> \u001b[39m\u001b[32m427\u001b[39m     fid = stack.enter_context(\u001b[38;5;28;43mopen\u001b[39;49m\u001b[43m(\u001b[49m\u001b[43mos_fspath\u001b[49m\u001b[43m(\u001b[49m\u001b[43mfile\u001b[49m\u001b[43m)\u001b[49m\u001b[43m,\u001b[49m\u001b[43m \u001b[49m\u001b[33;43m\"\u001b[39;49m\u001b[33;43mrb\u001b[39;49m\u001b[33;43m\"\u001b[39;49m\u001b[43m)\u001b[49m)\n\u001b[32m    428\u001b[39m     own_fid = \u001b[38;5;28;01mTrue\u001b[39;00m\n\u001b[32m    430\u001b[39m \u001b[38;5;66;03m# Code to distinguish from NumPy binary files and pickles.\u001b[39;00m\n",
      "\u001b[31mFileNotFoundError\u001b[39m: [Errno 2] No such file or directory: '/nfs/norasys/notebooks/camaret/segfm3d_nora_team/docker_submission/data/inputs/3D_val_npz/CT_AbdomenAtlas_BDMAP_00000006.npz'"
     ]
    }
   ],
   "source": [
    "volume_path = \"/nfs/norasys/notebooks/camaret/segfm3d_nora_team/docker_submission/data/inputs/3D_val_npz/CT_AbdomenAtlas_BDMAP_00000006.npz\"\n",
    "vol = np.load(volume_path, allow_pickle=True)\n",
    "print(vol.keys())"
   ]
  },
  {
   "cell_type": "code",
   "execution_count": null,
   "id": "03fc0c72",
   "metadata": {},
   "outputs": [],
   "source": [
    "volume_path = \"/nfs/norasys/notebooks/camaret/segfm3d_nora_team/docker_submission/inputs/CT_AbdomenAtlas_BDMAP_00000006.npz\"\n",
    "vol = np.load(volume_path, allow_pickle=True)\n",
    "print(vol.keys())"
   ]
  },
  {
   "cell_type": "code",
   "execution_count": 5,
   "id": "1296d71b-87fb-4906-a635-4fae74352b6e",
   "metadata": {},
   "outputs": [
    {
     "name": "stdout",
     "output_type": "stream",
     "text": [
      "KeysView(NpzFile '/nfs/norasys/notebooks/camaret/cvpr25/test_demo/imgs/2DBox_Microscope_demo.npz' with keys: imgs, boxes)\n",
      "[[  0  97  66 236]\n",
      " [  0 267  84 386]\n",
      " [  0 387  34 522]\n",
      " [ 29 407 133 522]\n",
      " [ 63   0 223 181]\n",
      " [ 89 204 232 325]\n",
      " [112 310 244 441]\n",
      " [122 456 244 522]\n",
      " [247 363 384 487]\n",
      " [247 108 404 245]\n",
      " [251 498 371 522]\n",
      " [268   0 391  95]\n",
      " [297 240 425 362]\n",
      " [381 293 502 435]\n",
      " [418   0 552 129]\n",
      " [431 153 565 281]\n",
      " [493 299 625 443]\n",
      " [564   0 703 142]\n",
      " [590 190 723 318]\n",
      " [608 439 754 522]\n",
      " [667 298 775 424]\n",
      " [694  82 775 190]]\n"
     ]
    }
   ],
   "source": [
    "volume_path = \"/nfs/norasys/notebooks/camaret/cvpr25/test_demo/imgs/2DBox_Microscope_demo.npz\"\n",
    "vol = np.load(volume_path, allow_pickle=True)\n",
    "print(vol.keys())\n",
    "print(vol[\"boxes\"])"
   ]
  },
  {
   "cell_type": "code",
   "execution_count": 20,
   "id": "b6aecb4c-6962-48da-92e6-11d1013abe24",
   "metadata": {},
   "outputs": [
    {
     "name": "stdout",
     "output_type": "stream",
     "text": [
      "MR_demo.npz\n",
      "[{'z_min': 181, 'z_max': 241, 'z_mid': 214, 'z_mid_x_min': 99, 'z_mid_y_min': 24, 'z_mid_x_max': 184, 'z_mid_y_max': 80}\n",
      " {'z_min': 52, 'z_max': 175, 'z_mid': 120, 'z_mid_x_min': 296, 'z_mid_y_min': 28, 'z_mid_x_max': 378, 'z_mid_y_max': 85}\n",
      " {'z_min': 56, 'z_max': 185, 'z_mid': 129, 'z_mid_x_min': 118, 'z_mid_y_min': 28, 'z_mid_x_max': 204, 'z_mid_y_max': 81}\n",
      " {'z_min': 169, 'z_max': 204, 'z_mid': 185, 'z_mid_x_min': 305, 'z_mid_y_min': 86, 'z_mid_x_max': 386, 'z_mid_y_max': 134}\n",
      " {'z_min': 226, 'z_max': 450, 'z_mid': 301, 'z_mid_x_min': 218, 'z_mid_y_min': 53, 'z_mid_x_max': 235, 'z_mid_y_max': 61}\n",
      " {'z_min': 108, 'z_max': 290, 'z_mid': 218, 'z_mid_x_min': 207, 'z_mid_y_min': 7, 'z_mid_x_max': 421, 'z_mid_y_max': 167}\n",
      " {'z_min': 167, 'z_max': 241, 'z_mid': 208, 'z_mid_x_min': 154, 'z_mid_y_min': 68, 'z_mid_x_max': 245, 'z_mid_y_max': 167}\n",
      " {'z_min': 7, 'z_max': 450, 'z_mid': 342, 'z_mid_x_min': 48, 'z_mid_y_min': 0, 'z_mid_x_max': 298, 'z_mid_y_max': 116}\n",
      " {'z_min': 0, 'z_max': 280, 'z_mid': 162, 'z_mid_x_min': 263, 'z_mid_y_min': 78, 'z_mid_x_max': 298, 'z_mid_y_max': 89}\n",
      " {'z_min': 100, 'z_max': 208, 'z_mid': 172, 'z_mid_x_min': 174, 'z_mid_y_min': 86, 'z_mid_x_max': 294, 'z_mid_y_max': 130}\n",
      " {'z_min': 162, 'z_max': 205, 'z_mid': 187, 'z_mid_x_min': 281, 'z_mid_y_min': 64, 'z_mid_x_max': 299, 'z_mid_y_max': 77}\n",
      " {'z_min': 154, 'z_max': 199, 'z_mid': 175, 'z_mid_x_min': 168, 'z_mid_y_min': 67, 'z_mid_x_max': 224, 'z_mid_y_max': 87}\n",
      " {'z_min': 70, 'z_max': 190, 'z_mid': 119, 'z_mid_x_min': 219, 'z_mid_y_min': 83, 'z_mid_x_max': 330, 'z_mid_y_max': 108}]\n",
      "CT_demo2.npz\n",
      "[{'z_min': 0, 'z_max': 49, 'z_mid': 22, 'z_mid_x_min': 389, 'z_mid_y_min': 247, 'z_mid_x_max': 450, 'z_mid_y_max': 331}\n",
      " {'z_min': 50, 'z_max': 108, 'z_mid': 82, 'z_mid_x_min': 417, 'z_mid_y_min': 176, 'z_mid_x_max': 467, 'z_mid_y_max': 233}\n",
      " {'z_min': 70, 'z_max': 82, 'z_mid': 76, 'z_mid_x_min': 329, 'z_mid_y_min': 301, 'z_mid_x_max': 369, 'z_mid_y_max': 341}\n",
      " {'z_min': 74, 'z_max': 172, 'z_mid': 122, 'z_mid_x_min': 299, 'z_mid_y_min': 198, 'z_mid_x_max': 382, 'z_mid_y_max': 298}\n",
      " {'z_min': 85, 'z_max': 160, 'z_mid': 120, 'z_mid_x_min': 347, 'z_mid_y_min': 127, 'z_mid_x_max': 393, 'z_mid_y_max': 182}\n",
      " {'z_min': 106, 'z_max': 147, 'z_mid': 126, 'z_mid_x_min': 243, 'z_mid_y_min': 315, 'z_mid_x_max': 293, 'z_mid_y_max': 365}\n",
      " {'z_min': 120, 'z_max': 141, 'z_mid': 129, 'z_mid_x_min': 294, 'z_mid_y_min': 303, 'z_mid_x_max': 320, 'z_mid_y_max': 330}\n",
      " {'z_min': 135, 'z_max': 184, 'z_mid': 166, 'z_mid_x_min': 289, 'z_mid_y_min': 283, 'z_mid_x_max': 343, 'z_mid_y_max': 325}\n",
      " {'z_min': 152, 'z_max': 163, 'z_mid': 158, 'z_mid_x_min': 288, 'z_mid_y_min': 311, 'z_mid_x_max': 305, 'z_mid_y_max': 326}\n",
      " {'z_min': 185, 'z_max': 189, 'z_mid': 187, 'z_mid_x_min': 345, 'z_mid_y_min': 247, 'z_mid_x_max': 376, 'z_mid_y_max': 278}]\n",
      "US_demo.npz\n",
      "[{'z_min': 0, 'z_max': 21, 'z_mid': 9, 'z_mid_x_min': 229, 'z_mid_y_min': 85, 'z_mid_x_max': 349, 'z_mid_y_max': 298}\n",
      " {'z_min': 0, 'z_max': 21, 'z_mid': 10, 'z_mid_x_min': 184, 'z_mid_y_min': 56, 'z_mid_x_max': 395, 'z_mid_y_max': 320}\n",
      " {'z_min': 0, 'z_max': 21, 'z_mid': 12, 'z_mid_x_min': 241, 'z_mid_y_min': 285, 'z_mid_x_max': 376, 'z_mid_y_max': 421}]\n",
      "CT_demo1.npz\n",
      "[{'z_min': 38, 'z_max': 58, 'z_mid': 49, 'z_mid_x_min': 95, 'z_mid_y_min': 106, 'z_mid_x_max': 183, 'z_mid_y_max': 187}\n",
      " {'z_min': 34, 'z_max': 53, 'z_mid': 44, 'z_mid_x_min': 293, 'z_mid_y_min': 141, 'z_mid_x_max': 373, 'z_mid_y_max': 219}\n",
      " {'z_min': 38, 'z_max': 67, 'z_mid': 57, 'z_mid_x_min': 218, 'z_mid_y_min': 125, 'z_mid_x_max': 446, 'z_mid_y_max': 347}\n",
      " {'z_min': 44, 'z_max': 57, 'z_mid': 53, 'z_mid_x_min': 106, 'z_mid_y_min': 156, 'z_mid_x_max': 286, 'z_mid_y_max': 288}\n",
      " {'z_min': 30, 'z_max': 69, 'z_mid': 50, 'z_mid_x_min': 234, 'z_mid_y_min': 205, 'z_mid_x_max': 281, 'z_mid_y_max': 238}\n",
      " {'z_min': 51, 'z_max': 64, 'z_mid': 58, 'z_mid_x_min': 44, 'z_mid_y_min': 91, 'z_mid_x_max': 169, 'z_mid_y_max': 207}\n",
      " {'z_min': 49, 'z_max': 65, 'z_mid': 59, 'z_mid_x_min': 88, 'z_mid_y_min': 154, 'z_mid_x_max': 219, 'z_mid_y_max': 338}\n",
      " {'z_min': 51, 'z_max': 57, 'z_mid': 55, 'z_mid_x_min': 151, 'z_mid_y_min': 177, 'z_mid_x_max': 188, 'z_mid_y_max': 205}\n",
      " {'z_min': 50, 'z_max': 57, 'z_mid': 54, 'z_mid_x_min': 258, 'z_mid_y_min': 169, 'z_mid_x_max': 298, 'z_mid_y_max': 201}\n",
      " {'z_min': 0, 'z_max': 11, 'z_mid': 6, 'z_mid_x_min': 167, 'z_mid_y_min': 144, 'z_mid_x_max': 337, 'z_mid_y_max': 272}\n",
      " {'z_min': 61, 'z_max': 68, 'z_mid': 64, 'z_mid_x_min': 201, 'z_mid_y_min': 192, 'z_mid_x_max': 244, 'z_mid_y_max': 230}]\n"
     ]
    }
   ],
   "source": [
    "import os\n",
    "path = \"/nfs/norasys/notebooks/camaret/cvpr25/test_demo/test_example/imgs\"\n",
    "for f in os.listdir(path):\n",
    "    print(f)\n",
    "    try:\n",
    "        vol = np.load(os.path.join(path,f), allow_pickle=True)\n",
    "        print(vol[\"boxes\"])\n",
    "    except Exception as e:\n",
    "        print(e)"
   ]
  },
  {
   "cell_type": "code",
   "execution_count": null,
   "id": "4e68fe9b-7d76-4d77-899b-b7609a30c54e",
   "metadata": {},
   "outputs": [],
   "source": []
  }
 ],
 "metadata": {
  "kernelspec": {
   "display_name": "segfm3d_2",
   "language": "python",
   "name": "segfm3d_2"
  },
  "language_info": {
   "codemirror_mode": {
    "name": "ipython",
    "version": 3
   },
   "file_extension": ".py",
   "mimetype": "text/x-python",
   "name": "python",
   "nbconvert_exporter": "python",
   "pygments_lexer": "ipython3",
   "version": "3.12.9"
  }
 },
 "nbformat": 4,
 "nbformat_minor": 5
}
