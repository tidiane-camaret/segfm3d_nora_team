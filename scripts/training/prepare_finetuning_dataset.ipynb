{
 "cells": [
  {
   "cell_type": "code",
   "execution_count": 25,
   "id": "6a8060b4",
   "metadata": {},
   "outputs": [],
   "source": [
    "nnunet_dataset_name = \"Dataset010_ALL\""
   ]
  },
  {
   "cell_type": "code",
   "execution_count": 37,
   "id": "b815a33b",
   "metadata": {},
   "outputs": [],
   "source": [
    "from src.config import config\n",
    "import os\n",
    "nnunet_train_dir = os.path.join(config[\"DATA_DIR\"], \"nnunet_raw\", nnunet_dataset_name)\n",
    "os.makedirs(nnunet_train_dir, exist_ok=True)\n",
    "os.makedirs(os.path.join(nnunet_train_dir, \"imagesTr\"), exist_ok=True)\n",
    "os.makedirs(os.path.join(nnunet_train_dir, \"imagesTs\"), exist_ok=True)\n",
    "os.makedirs(os.path.join(nnunet_train_dir, \"labelsTr\"), exist_ok=True)\n",
    "os.makedirs(os.path.join(nnunet_train_dir, \"labelsTs\"), exist_ok=True)"
   ]
  },
  {
   "cell_type": "code",
   "execution_count": 38,
   "id": "5c8a24b6",
   "metadata": {},
   "outputs": [
    {
     "data": {
      "text/plain": [
       "2985"
      ]
     },
     "execution_count": 38,
     "metadata": {},
     "output_type": "execute_result"
    }
   ],
   "source": [
    "files = [os.path.join(dp, f) for dp, dn, filenames in os.walk(os.path.join(config[\"DATA_DIR\"], \"3D_train_npz_random_10percent_16G\")) for f in filenames if os.path.splitext(f)[1] == '.npz']\n",
    "\n",
    "len(files)\n"
   ]
  },
  {
   "cell_type": "code",
   "execution_count": 39,
   "id": "86c070a6",
   "metadata": {},
   "outputs": [
    {
     "name": "stdout",
     "output_type": "stream",
     "text": [
      "excluded\n",
      "excluded\n",
      "excluded\n",
      "excluded\n",
      "excluded\n",
      "excluded\n",
      "excluded\n",
      "excluded\n",
      "excluded\n",
      "excluded\n",
      "excluded\n",
      "excluded\n",
      "excluded\n",
      "excluded\n",
      "excluded\n",
      "excluded\n",
      "excluded\n",
      "excluded\n",
      "excluded\n",
      "excluded\n",
      "excluded\n",
      "excluded\n",
      "excluded\n",
      "excluded\n",
      "excluded\n",
      "excluded\n",
      "excluded\n",
      "excluded\n",
      "excluded\n",
      "excluded\n",
      "excluded\n",
      "excluded\n",
      "excluded\n",
      "excluded\n",
      "excluded\n",
      "excluded\n",
      "excluded\n",
      "excluded\n",
      "excluded\n",
      "excluded\n",
      "Processed 2985 files successfully\n"
     ]
    }
   ],
   "source": [
    "import numpy as np\n",
    "import nibabel as nib\n",
    "import os\n",
    "from multiprocessing import Pool\n",
    "from functools import partial\n",
    "\n",
    "def process_file(file_info, nnunet_train_dir, total_files):\n",
    "    i, file = file_info\n",
    "    subset = \"Tr\" if i < total_files * 0.8 else \"Ts\"\n",
    "    #print(f\"file : {os.path.basename(file)}, {i}/{total_files}\")\n",
    "    \n",
    "    data = np.load( file, allow_pickle=True)\n",
    "    imgs = data[\"imgs\"]\n",
    "    imgs_shape = np.array(imgs.shape)\n",
    "\n",
    "    if np.any(imgs_shape==1) :#exclude 2d image for now, only 36 of them\n",
    "        print(\"excluded\")\n",
    "        return None\n",
    "    spacing = data[\"spacing\"]\n",
    "    #print(f\"shape: {imgs.shape}\")\n",
    "    #print(f\"spacing: {spacing}\")\n",
    "    spacing = spacing[2], spacing[1], spacing[0]  # Adjusting to match NIfTI format (z, y, x)\n",
    "    \n",
    "    # Create affine matrix\n",
    "    affine = np.eye(4)\n",
    "    affine[0, 0] = data[\"spacing\"][0]\n",
    "    affine[1, 1] = data[\"spacing\"][1]\n",
    "    affine[2, 2] = data[\"spacing\"][2]\n",
    "    \n",
    "    # Save images\n",
    "    nib_img = nib.Nifti1Image(imgs, affine=affine)\n",
    "    nib.save(nib_img, os.path.join(nnunet_train_dir, \"images\"+subset, os.path.basename(file).replace(\".npz\", \"_0000.nii.gz\")))\n",
    "    \n",
    "    # Process and save ground truth\n",
    "    gts = data[\"gts\"]\n",
    "    #print(np.unique(gts))\n",
    "    #gts = (gts == 1).astype(np.int8)\n",
    "    nib_gt = nib.Nifti1Image(gts, affine=affine)\n",
    "    nib.save(nib_gt, os.path.join(nnunet_train_dir, \"labels\"+subset, os.path.basename(file).replace(\".npz\", \".nii.gz\")))\n",
    "    \n",
    "    return file\n",
    "\n",
    "# Main execution\n",
    "# Create list of (index, filename) tuples\n",
    "file_list = [(i, file) for i, file in enumerate(files)]\n",
    "\n",
    "# Create partial function with fixed arguments\n",
    "process_func = partial(process_file, \n",
    "                      nnunet_train_dir=nnunet_train_dir, \n",
    "                      total_files=len(files))\n",
    "\n",
    "# Use 14 cores (leave 2 for system)\n",
    "with Pool(processes=25) as pool:\n",
    "    results = pool.map(process_func, file_list)\n",
    "\n",
    "print(f\"Processed {len(results)} files successfully\")"
   ]
  },
  {
   "cell_type": "code",
   "execution_count": 30,
   "id": "1999d5f5",
   "metadata": {},
   "outputs": [
    {
     "name": "stdout",
     "output_type": "stream",
     "text": [
      "2388\n",
      "Image shape: (9, 512, 512)\n"
     ]
    },
    {
     "data": {
      "text/plain": [
       "<matplotlib.image.AxesImage at 0x74795f888950>"
      ]
     },
     "execution_count": 30,
     "metadata": {},
     "output_type": "execute_result"
    },
    {
     "data": {
      "image/png": "[encoded data removed]",
      "text/plain": [
       "<Figure size 640x480 with 1 Axes>"
      ]
     },
     "metadata": {},
     "output_type": "display_data"
    }
   ],
   "source": [
    "print(len(os.listdir(os.path.join(nnunet_train_dir,\"labelsTr\"))))\n",
    "idx = 207\n",
    "# visualize one of the images\n",
    "import matplotlib.pyplot as plt\n",
    "import nibabel as nib\n",
    "from numpy import spacing\n",
    "img_path = os.path.join(nnunet_train_dir, \"labelsTr\", os.listdir(os.path.join(nnunet_train_dir, \"labelsTr\"))[idx])\n",
    "img = nib.load(img_path)\n",
    "img_data = img.get_fdata()\n",
    "spacing = img.header.get_zooms()\n",
    "print(f\"Image shape: {img_data.shape}\")\n",
    "gt1 = img_data == 3\n",
    "plt.imshow(gt1.mean(axis=0),)\n"
   ]
  },
  {
   "cell_type": "code",
   "execution_count": 40,
   "id": "5bbbf4db",
   "metadata": {},
   "outputs": [],
   "source": [
    "spacings = []\n",
    "shapes = []\n",
    "for i, f in enumerate(os.listdir(os.path.join(nnunet_train_dir,\"labelsTr\"))):\n",
    "    if f.endswith(\".nii.gz\"):\n",
    "        #print(f\"Processing {i+1}/{len(os.listdir(os.path.join(nnunet_train_dir,'labelsTr')))}: {f}\")\n",
    "        img_path = os.path.join(nnunet_train_dir, \"labelsTr\", f)\n",
    "        img = nib.load(img_path)\n",
    "        img_data = img.get_fdata()\n",
    "        spacing = img.header.get_zooms()\n",
    "        spacings.append(spacing)\n",
    "        shapes.append(img_data.shape)"
   ]
  },
  {
   "cell_type": "code",
   "execution_count": 41,
   "id": "7f8a1086",
   "metadata": {},
   "outputs": [
    {
     "name": "stdout",
     "output_type": "stream",
     "text": [
      "(2352, 3)\n",
      "(0,)\n"
     ]
    },
    {
     "data": {
      "text/plain": [
       "'\\nfor s in shapes :\\n    if np.any(s==1):\\n        print(s)\\n'"
      ]
     },
     "execution_count": 41,
     "metadata": {},
     "output_type": "execute_result"
    }
   ],
   "source": [
    "shapes = np.array(shapes)\n",
    "print(shapes.shape)\n",
    "print(np.where(shapes==1)[0].shape)\n",
    "\"\"\"\n",
    "for s in shapes :\n",
    "    if np.any(s==1):\n",
    "        print(s)\n",
    "\"\"\""
   ]
  },
  {
   "cell_type": "code",
   "execution_count": null,
   "id": "05ea7451",
   "metadata": {},
   "outputs": [],
   "source": [
    "#export the variables for dataset location (see https://github.com/MIC-DKFZ/nnUNet/blob/master/documentation/set_environment_variables.md)\n",
    "import os\n",
    "os.environ[\"nnUNet_raw\"] = os.path.join(config[\"DATA_DIR\"], \"nnunet_raw\")\n",
    "os.environ[\"nnUNet_preprocessed\"] = os.path.join(config[\"DATA_DIR\"], \"nnUNet_preprocessed\") \n",
    "os.environ[\"nnUNet_results\"] = os.path.join(config[\"DATA_DIR\"], \"nnUNet_results\")\n",
    "os.environ[\"NNINT_CKPT_DIR\"] = config[\"NNINT_CKPT_DIR\"]\n",
    "\n",
    "# easy paste when using a terminal\n",
    "for var_name in [\"nnUNet_raw\", \"nnUNet_preprocessed\", \"nnUNet_results\",\"NNINT_CKPT_DIR\"]:\n",
    "    print(\"export \" + var_name + \"=\" + os.environ[var_name])"
   ]
  },
  {
   "cell_type": "code",
   "execution_count": null,
   "id": "3f0efc98-aa10-4e62-9849-6bba3e9d8653",
   "metadata": {},
   "outputs": [],
   "source": [
    "source /software/anaconda3/etc/profile.d/conda.sh\n",
    "conda activate segfm3d_2\n",
    "cd /nfs/norasys/notebooks/camaret/segfm3d_nora_team"
   ]
  },
  {
   "cell_type": "code",
   "execution_count": null,
   "id": "d3409f2f",
   "metadata": {},
   "outputs": [],
   "source": [
    "#copy datset.json to the $nnUNet_raw/Dataset010_ALL\n",
    "nnUNetv2_extract_fingerprint -d 10\n",
    "nnUNetv2_plan_experiment -d 10 -pl nnUNetPlannerResEncL -c 3d_fullres\n",
    "\n",
    "# add a 3d_fullres_ps192 method to the plans\n",
    "nnUNetv2_preprocess -d 10 -np 12 -plans_name nnUNetResEncUNetLPlans -c 3d_fullres_ps192\n"
   ]
  }
 ],
 "metadata": {
  "kernelspec": {
   "display_name": "segfm3d_2",
   "language": "python",
   "name": "segfm3d_2"
  },
  "language_info": {
   "codemirror_mode": {
    "name": "ipython",
    "version": 3
   },
   "file_extension": ".py",
   "mimetype": "text/x-python",
   "name": "python",
   "nbconvert_exporter": "python",
   "pygments_lexer": "ipython3",
   "version": "3.12.9"
  }
 },
 "nbformat": 4,
 "nbformat_minor": 5
}
