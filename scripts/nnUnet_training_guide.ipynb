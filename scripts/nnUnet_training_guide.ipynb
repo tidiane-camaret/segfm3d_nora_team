{
 "cells": [
  {
   "cell_type": "markdown",
   "metadata": {},
   "source": [
    "Training a model using the nnUnet library \n",
    "see https://github.com/MIC-DKFZ/nnUNet/tree/master\n",
    "\n",
    "1 - Convert a subset the competition dataset to nnunet format\n",
    "2 - "
   ]
  },
  {
   "cell_type": "code",
   "execution_count": 2,
   "metadata": {},
   "outputs": [],
   "source": [
    "subset_name = \"CT/CT_Abdomen1K\" # using a subset for now\n",
    "nnunet_dataset_name = \"Dataset003_CT_Abdomen1K\""
   ]
  },
  {
   "cell_type": "code",
   "execution_count": 3,
   "metadata": {},
   "outputs": [],
   "source": [
    "from src.config import config\n",
    "import os\n",
    "train_dir = os.path.join(config[\"DATA_DIR\"], \"3D_train_npz_random_10percent_16G\", subset_name)\n",
    "nnunet_train_dir = os.path.join(config[\"DATA_DIR\"], \"nnunet_raw\", nnunet_dataset_name)\n",
    "os.makedirs(nnunet_train_dir, exist_ok=True)\n",
    "os.makedirs(os.path.join(nnunet_train_dir, \"imagesTr\"), exist_ok=True)\n",
    "os.makedirs(os.path.join(nnunet_train_dir, \"imagesTs\"), exist_ok=True)\n",
    "os.makedirs(os.path.join(nnunet_train_dir, \"labelsTr\"), exist_ok=True)\n",
    "os.makedirs(os.path.join(nnunet_train_dir, \"labelsTs\"), exist_ok=True)\n"
   ]
  },
  {
   "cell_type": "code",
   "execution_count": 63,
   "metadata": {},
   "outputs": [
    {
     "name": "stdout",
     "output_type": "stream",
     "text": [
      "file : CT_Abdomen1K_Case_00813.npz, 0/100\n",
      "(76, 512, 512) (76, 512, 512) [0.703125 0.703125 2.5     ]\n",
      "file : CT_Abdomen1K_Case_00234.npz, 1/100\n",
      "(66, 512, 512) (66, 512, 512) [0.703125 0.703125 2.5     ]\n",
      "file : CT_Abdomen1K_Case_00151.npz, 2/100\n",
      "(70, 512, 512) (70, 512, 512) [0.703125 0.703125 2.5     ]\n",
      "file : CT_Abdomen1K_Case_00414.npz, 3/100\n",
      "(409, 512, 512) (409, 512, 512) [0.703125 0.703125 2.5     ]\n",
      "file : CT_Abdomen1K_Case_00350.npz, 4/100\n",
      "(85, 512, 512) (85, 512, 512) [0.703125 0.703125 2.5     ]\n",
      "file : CT_Abdomen1K_Case_00047.npz, 5/100\n",
      "(225, 512, 512) (225, 512, 512) [0.703125 0.703125 2.5     ]\n",
      "file : CT_Abdomen1K_Case_00977.npz, 6/100\n",
      "(69, 512, 512) (69, 512, 512) [0.703125 0.703125 2.5     ]\n",
      "file : CT_Abdomen1K_Case_00164.npz, 7/100\n",
      "(37, 512, 512) (37, 512, 512) [0.703125 0.703125 2.5     ]\n",
      "file : CT_Abdomen1K_Case_00612.npz, 8/100\n",
      "(68, 512, 512) (68, 512, 512) [0.703125 0.703125 2.5     ]\n",
      "file : CT_Abdomen1K_Case_00882.npz, 9/100\n",
      "(40, 512, 512) (40, 512, 512) [0.703125 0.703125 2.5     ]\n",
      "file : CT_Abdomen1K_Case_00577.npz, 10/100\n",
      "(130, 512, 512) (130, 512, 512) [0.703125 0.703125 2.5     ]\n",
      "file : CT_Abdomen1K_Case_00792.npz, 11/100\n",
      "(139, 512, 512) (139, 512, 512) [0.703125 0.703125 2.5     ]\n",
      "file : CT_Abdomen1K_Case_00089.npz, 12/100\n",
      "(304, 512, 512) (304, 512, 512) [0.703125 0.703125 2.5     ]\n",
      "file : CT_Abdomen1K_Case_00837.npz, 13/100\n",
      "(74, 512, 512) (74, 512, 512) [0.703125 0.703125 2.5     ]\n",
      "file : CT_Abdomen1K_Case_00514.npz, 14/100\n",
      "(35, 512, 512) (35, 512, 512) [0.703125 0.703125 2.5     ]\n",
      "file : CT_Abdomen1K_Case_00842.npz, 15/100\n",
      "(57, 512, 512) (57, 512, 512) [0.703125 0.703125 2.5     ]\n",
      "file : CT_Abdomen1K_Case_00727.npz, 16/100\n",
      "(383, 512, 512) (383, 512, 512) [0.703125 0.703125 2.5     ]\n",
      "file : CT_Abdomen1K_Case_00390.npz, 17/100\n",
      "(54, 512, 512) (54, 512, 512) [0.703125 0.703125 2.5     ]\n",
      "file : CT_Abdomen1K_Case_00087.npz, 18/100\n",
      "(155, 512, 512) (155, 512, 512) [0.703125 0.703125 2.5     ]\n",
      "file : CT_Abdomen1K_Case_00870.npz, 19/100\n",
      "(77, 512, 512) (77, 512, 512) [0.703125 0.703125 2.5     ]\n",
      "file : CT_Abdomen1K_Case_00281.npz, 20/100\n",
      "(103, 512, 512) (103, 512, 512) [0.703125 0.703125 2.5     ]\n",
      "file : CT_Abdomen1K_Case_00712.npz, 21/100\n",
      "(305, 512, 512) (305, 512, 512) [0.703125 0.703125 2.5     ]\n",
      "file : CT_Abdomen1K_Case_00470.npz, 22/100\n",
      "(115, 512, 512) (115, 512, 512) [0.703125 0.703125 2.5     ]\n",
      "file : CT_Abdomen1K_Case_00484.npz, 23/100\n",
      "(79, 512, 512) (79, 512, 512) [0.703125 0.703125 2.5     ]\n",
      "file : CT_Abdomen1K_Case_00323.npz, 24/100\n",
      "(78, 512, 512) (78, 512, 512) [0.703125 0.703125 2.5     ]\n",
      "file : CT_Abdomen1K_Case_00200.npz, 25/100\n",
      "(35, 512, 512) (35, 512, 512) [0.703125 0.703125 2.5     ]\n",
      "file : CT_Abdomen1K_Case_00356.npz, 26/100\n",
      "(66, 512, 512) (66, 512, 512) [0.703125 0.703125 2.5     ]\n",
      "file : CT_Abdomen1K_Case_00209.npz, 27/100\n",
      "(94, 512, 512) (94, 512, 512) [0.703125 0.703125 2.5     ]\n",
      "file : CT_Abdomen1K_Case_00503.npz, 28/100\n",
      "(36, 512, 512) (36, 512, 512) [0.703125 0.703125 2.5     ]\n",
      "file : CT_Abdomen1K_Case_01054.npz, 29/100\n",
      "(201, 512, 512) (201, 512, 512) [0.703125 0.703125 2.5     ]\n",
      "file : CT_Abdomen1K_Case_00275.npz, 30/100\n",
      "(99, 512, 512) (99, 512, 512) [0.703125 0.703125 2.5     ]\n",
      "file : CT_Abdomen1K_Case_01061.npz, 31/100\n",
      "(177, 512, 512) (177, 512, 512) [0.703125 0.703125 2.5     ]\n",
      "file : CT_Abdomen1K_Case_00298.npz, 32/100\n",
      "(264, 512, 512) (264, 512, 512) [0.703125 0.703125 2.5     ]\n",
      "file : CT_Abdomen1K_Case_00815.npz, 33/100\n",
      "(65, 512, 512) (65, 512, 512) [0.703125 0.703125 2.5     ]\n",
      "file : CT_Abdomen1K_Case_00931.npz, 34/100\n",
      "(409, 512, 512) (409, 512, 512) [0.703125 0.703125 2.5     ]\n",
      "file : CT_Abdomen1K_Case_00869.npz, 35/100\n",
      "(71, 512, 512) (71, 512, 512) [0.703125 0.703125 2.5     ]\n",
      "file : CT_Abdomen1K_Case_00544.npz, 36/100\n",
      "(362, 512, 512) (362, 512, 512) [0.703125 0.703125 2.5     ]\n",
      "file : CT_Abdomen1K_Case_00460.npz, 37/100\n",
      "(128, 512, 512) (128, 512, 512) [0.703125 0.703125 2.5     ]\n",
      "file : CT_Abdomen1K_Case_00693.npz, 38/100\n",
      "(33, 512, 512) (33, 512, 512) [0.703125 0.703125 2.5     ]\n",
      "file : CT_Abdomen1K_Case_00584.npz, 39/100\n",
      "(224, 512, 512) (224, 512, 512) [0.703125 0.703125 2.5     ]\n",
      "file : CT_Abdomen1K_Case_00952.npz, 40/100\n",
      "(36, 512, 512) (36, 512, 512) [0.703125 0.703125 2.5     ]\n",
      "file : CT_Abdomen1K_Case_00983.npz, 41/100\n",
      "(65, 512, 512) (65, 512, 512) [0.703125 0.703125 2.5     ]\n",
      "file : CT_Abdomen1K_Case_00403.npz, 42/100\n",
      "(42, 512, 512) (42, 512, 512) [0.703125 0.703125 2.5     ]\n",
      "file : CT_Abdomen1K_Case_00527.npz, 43/100\n",
      "(189, 512, 512) (189, 512, 512) [0.703125 0.703125 2.5     ]\n",
      "file : CT_Abdomen1K_Case_00895.npz, 44/100\n",
      "(198, 512, 512) (198, 512, 512) [0.703125 0.703125 2.5     ]\n",
      "file : CT_Abdomen1K_Case_00605.npz, 45/100\n",
      "(80, 512, 512) (80, 512, 512) [0.703125 0.703125 2.5     ]\n",
      "file : CT_Abdomen1K_Case_00443.npz, 46/100\n",
      "(40, 512, 512) (40, 512, 512) [0.703125 0.703125 2.5     ]\n",
      "file : CT_Abdomen1K_Case_00785.npz, 47/100\n",
      "(40, 512, 512) (40, 512, 512) [0.703125 0.703125 2.5     ]\n",
      "file : CT_Abdomen1K_Case_00646.npz, 48/100\n",
      "(84, 512, 512) (84, 512, 512) [0.703125 0.703125 2.5     ]\n",
      "file : CT_Abdomen1K_Case_00580.npz, 49/100\n",
      "(71, 512, 512) (71, 512, 512) [0.703125 0.703125 2.5     ]\n",
      "file : CT_Abdomen1K_Case_00719.npz, 50/100\n",
      "(40, 512, 512) (40, 512, 512) [0.703125 0.703125 2.5     ]\n",
      "file : CT_Abdomen1K_Case_00765.npz, 51/100\n",
      "(32, 512, 512) (32, 512, 512) [0.703125 0.703125 2.5     ]\n",
      "file : CT_Abdomen1K_Case_00958.npz, 52/100\n",
      "(235, 512, 512) (235, 512, 512) [0.703125 0.703125 2.5     ]\n",
      "file : CT_Abdomen1K_Case_00061.npz, 53/100\n",
      "(45, 512, 512) (45, 512, 512) [0.703125 0.703125 2.5     ]\n",
      "file : CT_Abdomen1K_Case_00255.npz, 54/100\n",
      "(41, 512, 512) (41, 512, 512) [0.703125 0.703125 2.5     ]\n",
      "file : CT_Abdomen1K_Case_00980.npz, 55/100\n",
      "(62, 512, 512) (62, 512, 512) [0.703125 0.703125 2.5     ]\n",
      "file : CT_Abdomen1K_Case_00710.npz, 56/100\n",
      "(34, 512, 512) (34, 512, 512) [0.703125 0.703125 2.5     ]\n",
      "file : CT_Abdomen1K_Case_00395.npz, 57/100\n",
      "(37, 512, 512) (37, 512, 512) [0.703125 0.703125 2.5     ]\n",
      "file : CT_Abdomen1K_Case_00082.npz, 58/100\n",
      "(74, 512, 512) (74, 512, 512) [0.703125 0.703125 2.5     ]\n",
      "file : CT_Abdomen1K_Case_00498.npz, 59/100\n",
      "(71, 512, 512) (71, 512, 512) [0.703125 0.703125 2.5     ]\n",
      "file : CT_Abdomen1K_Case_00608.npz, 60/100\n",
      "(35, 512, 512) (35, 512, 512) [0.703125 0.703125 2.5     ]\n",
      "file : CT_Abdomen1K_Case_00179.npz, 61/100\n",
      "(33, 512, 512) (33, 512, 512) [0.703125 0.703125 2.5     ]\n",
      "file : CT_Abdomen1K_Case_00746.npz, 62/100\n",
      "(94, 512, 512) (94, 512, 512) [0.703125 0.703125 2.5     ]\n",
      "file : CT_Abdomen1K_Case_00823.npz, 63/100\n",
      "(96, 512, 512) (96, 512, 512) [0.703125 0.703125 2.5     ]\n",
      "file : CT_Abdomen1K_Case_00204.npz, 64/100\n",
      "(84, 512, 512) (84, 512, 512) [0.703125 0.703125 2.5     ]\n",
      "file : CT_Abdomen1K_Case_00619.npz, 65/100\n",
      "(59, 512, 512) (59, 512, 512) [0.703125 0.703125 2.5     ]\n",
      "file : CT_Abdomen1K_Case_01059.npz, 66/100\n",
      "(179, 512, 512) (179, 512, 512) [0.703125 0.703125 2.5     ]\n",
      "file : CT_Abdomen1K_Case_00045.npz, 67/100\n",
      "(34, 512, 512) (34, 512, 512) [0.703125 0.703125 2.5     ]\n",
      "file : CT_Abdomen1K_Case_00856.npz, 68/100\n",
      "(61, 512, 512) (61, 512, 512) [0.703125 0.703125 2.5     ]\n",
      "file : CT_Abdomen1K_Case_00276.npz, 69/100\n",
      "(119, 512, 512) (119, 512, 512) [0.703125 0.703125 2.5     ]\n",
      "file : CT_Abdomen1K_Case_00617.npz, 70/100\n",
      "(70, 512, 512) (70, 512, 512) [0.703125 0.703125 2.5     ]\n",
      "file : CT_Abdomen1K_Case_00039.npz, 71/100\n",
      "(274, 512, 512) (274, 512, 512) [0.703125 0.703125 2.5     ]\n",
      "file : CT_Abdomen1K_Case_00367.npz, 72/100\n",
      "(86, 512, 512) (86, 512, 512) [0.703125 0.703125 2.5     ]\n",
      "file : CT_Abdomen1K_Case_00947.npz, 73/100\n",
      "(292, 512, 512) (292, 512, 512) [0.703125 0.703125 2.5     ]\n",
      "file : CT_Abdomen1K_Case_00932.npz, 74/100\n",
      "(34, 512, 512) (34, 512, 512) [0.703125 0.703125 2.5     ]\n",
      "file : CT_Abdomen1K_Case_00686.npz, 75/100\n",
      "(214, 512, 512) (214, 512, 512) [0.703125 0.703125 2.5     ]\n",
      "file : CT_Abdomen1K_Case_00079.npz, 76/100\n",
      "(230, 512, 512) (230, 512, 512) [0.703125 0.703125 2.5     ]\n",
      "file : CT_Abdomen1K_Case_00020.npz, 77/100\n",
      "(54, 512, 512) (54, 512, 512) [0.703125 0.703125 2.5     ]\n",
      "file : CT_Abdomen1K_Case_00214.npz, 78/100\n",
      "(51, 512, 512) (51, 512, 512) [0.703125 0.703125 2.5     ]\n",
      "file : CT_Abdomen1K_Case_00055.npz, 79/100\n",
      "(44, 512, 512) (44, 512, 512) [0.703125 0.703125 2.5     ]\n",
      "file : CT_Abdomen1K_Case_00448.npz, 80/100\n",
      "(166, 512, 512) (166, 512, 512) [0.703125 0.703125 2.5     ]\n",
      "file : CT_Abdomen1K_Case_00171.npz, 81/100\n",
      "(82, 512, 512) (82, 512, 512) [0.703125 0.703125 2.5     ]\n",
      "file : CT_Abdomen1K_Case_00600.npz, 82/100\n",
      "(106, 512, 512) (106, 512, 512) [0.703125 0.703125 2.5     ]\n",
      "file : CT_Abdomen1K_Case_00192.npz, 83/100\n",
      "(51, 512, 512) (51, 512, 512) [0.703125 0.703125 2.5     ]\n",
      "file : CT_Abdomen1K_Case_00067.npz, 84/100\n",
      "(202, 512, 512) (202, 512, 512) [0.703125 0.703125 2.5     ]\n",
      "file : CT_Abdomen1K_Case_01009.npz, 85/100\n",
      "(82, 512, 512) (82, 512, 512) [0.703125 0.703125 2.5     ]\n",
      "file : CT_Abdomen1K_Case_00473.npz, 86/100\n",
      "(103, 512, 512) (103, 512, 512) [0.703125 0.703125 2.5     ]\n",
      "file : CT_Abdomen1K_Case_00004.npz, 87/100\n",
      "(57, 512, 512) (57, 512, 512) [0.703125 0.703125 2.5     ]\n",
      "file : CT_Abdomen1K_Case_00934.npz, 88/100\n",
      "(36, 512, 512) (36, 512, 512) [0.703125 0.703125 2.5     ]\n",
      "file : CT_Abdomen1K_Case_00548.npz, 89/100\n",
      "(35, 512, 512) (35, 512, 512) [0.703125 0.703125 2.5     ]\n",
      "file : CT_Abdomen1K_Case_00997.npz, 90/100\n",
      "(62, 512, 512) (62, 512, 512) [0.703125 0.703125 2.5     ]\n",
      "file : CT_Abdomen1K_Case_00183.npz, 91/100\n",
      "(66, 512, 512) (66, 512, 512) [0.703125 0.703125 2.5     ]\n",
      "file : CT_Abdomen1K_Case_00881.npz, 92/100\n",
      "(69, 512, 512) (69, 512, 512) [0.703125 0.703125 2.5     ]\n",
      "file : CT_Abdomen1K_Case_00735.npz, 93/100\n",
      "(62, 512, 512) (62, 512, 512) [0.703125 0.703125 2.5     ]\n",
      "file : CT_Abdomen1K_Case_00501.npz, 94/100\n",
      "(76, 512, 512) (76, 512, 512) [0.703125 0.703125 2.5     ]\n",
      "file : CT_Abdomen1K_Case_00973.npz, 95/100\n",
      "(85, 512, 512) (85, 512, 512) [0.703125 0.703125 2.5     ]\n",
      "file : CT_Abdomen1K_Case_00859.npz, 96/100\n",
      "(74, 512, 512) (74, 512, 512) [0.703125 0.703125 2.5     ]\n",
      "file : CT_Abdomen1K_Case_00791.npz, 97/100\n",
      "(199, 512, 512) (199, 512, 512) [0.703125 0.703125 2.5     ]\n",
      "file : CT_Abdomen1K_Case_00747.npz, 98/100\n",
      "(35, 512, 512) (35, 512, 512) [0.703125 0.703125 2.5     ]\n",
      "file : CT_Abdomen1K_Case_00450.npz, 99/100\n",
      "(181, 512, 512) (181, 512, 512) [0.703125 0.703125 2.5     ]\n"
     ]
    }
   ],
   "source": [
    "import numpy as np\n",
    "import nibabel as nib\n",
    "\n",
    "files = os.listdir(train_dir)\n",
    "for i, file in enumerate(files):\n",
    "    subset = \"Tr\" if i < len(files) * 0.8 else \"Ts\"\n",
    "    print(f\"file : {file}, {i}/{len(files)}\")\n",
    "    data = np.load(os.path.join(train_dir, file), allow_pickle=True)\n",
    "    # print(data.keys()) # imgs, gts, spacing\n",
    "    imgs = data[\"imgs\"]\n",
    "    # add a channel dimension to the imgs\n",
    "    #imgs = np.expand_dims(imgs, axis=0)\n",
    "    affine = np.eye(4)\n",
    "    affine[0, 0] = data[\"spacing\"][0]\n",
    "    affine[1, 1] = data[\"spacing\"][1]\n",
    "    affine[2, 2] = data[\"spacing\"][2]\n",
    "    nib_img = nib.Nifti1Image(imgs, affine=affine)\n",
    "    nib.save(nib_img, os.path.join(nnunet_train_dir, \"images\"+subset, file.replace(\".npz\", \"_0000.nii.gz\")))\n",
    "\n",
    "    gts = data[\"gts\"]\n",
    "    # only keep the label 1 for now\n",
    "    gts = (gts == 1).astype(np.int8)\n",
    "    nib_gt = nib.Nifti1Image(gts, affine=affine)\n",
    "    nib.save(nib_gt, os.path.join(nnunet_train_dir, \"labels\"+subset, file.replace(\".npz\", \".nii.gz\")))\n",
    "    print(imgs.shape, gts.shape, spacing)\n",
    "    \n",
    "\n",
    "\n"
   ]
  },
  {
   "cell_type": "code",
   "execution_count": 5,
   "metadata": {},
   "outputs": [
    {
     "data": {
      "text/plain": [
       "80"
      ]
     },
     "execution_count": 5,
     "metadata": {},
     "output_type": "execute_result"
    }
   ],
   "source": [
    "len(os.listdir(os.path.join(nnunet_train_dir,\"imagesTr\")))\n",
    "    "
   ]
  },
  {
   "cell_type": "code",
   "execution_count": 8,
   "metadata": {},
   "outputs": [],
   "source": [
    "#export the variables for dataset location (see https://github.com/MIC-DKFZ/nnUNet/blob/master/documentation/set_environment_variables.md)\n",
    "\n",
    "os.environ[\"nnUNet_raw\"] = os.path.join(config[\"DATA_DIR\"], \"nnunet_raw\")\n",
    "os.environ[\"nnUNet_preprocessed\"] = os.path.join(config[\"DATA_DIR\"], \"nnUNet_preprocessed\") \n",
    "os.environ[\"nnUNet_results\"] = os.path.join(config[\"DATA_DIR\"], \"nnUNet_results\")"
   ]
  },
  {
   "cell_type": "code",
   "execution_count": 48,
   "metadata": {},
   "outputs": [
    {
     "name": "stdout",
     "output_type": "stream",
     "text": [
      "export nnUNet_raw=/nfs/data/nii/data1/Analysis/GPUnet/ANALYSIS_incontext/SegFM3D/data/nnunet_raw\n",
      "export nnUNet_preprocessed=/nfs/data/nii/data1/Analysis/GPUnet/ANALYSIS_incontext/SegFM3D/data/nnUNet_preprocessed\n",
      "export nnUNet_results=/nfs/data/nii/data1/Analysis/GPUnet/ANALYSIS_incontext/SegFM3D/data/nnUNet_results\n"
     ]
    }
   ],
   "source": [
    "# easy paste when using a terminal\n",
    "for var_name in [\"nnUNet_raw\", \"nnUNet_preprocessed\", \"nnUNet_results\"]:\n",
    "    print(\"export \" + var_name + \"=\" + os.environ[var_name])"
   ]
  },
  {
   "cell_type": "code",
   "execution_count": null,
   "metadata": {
    "vscode": {
     "languageId": "bat"
    }
   },
   "outputs": [],
   "source": [
    "# Ressource request on nora\n",
    "\n",
    "--time=2-0 --nodelist=loki --gpus-per-node=2  --cpus-per-task=16 --mem=64G\n",
    "\n",
    "source /software/anaconda3/etc/profile.d/conda.sh\n",
    "conda activate segfm3d_2\n",
    "cd /nfs/norasys/notebooks/camaret/segfm3d_nora_team\n",
    "/software/inetaccess/inetaccess camaret\n",
    "\n",
    "export TORCH_COMPILE_DISABLE=1"
   ]
  },
  {
   "cell_type": "markdown",
   "metadata": {},
   "source": [
    "using nninteractive plans :"
   ]
  },
  {
   "cell_type": "code",
   "execution_count": null,
   "metadata": {},
   "outputs": [],
   "source": [
    "# cp nnInteractive_v1.0/plans.json $nnUNet_preprocessed/DatasetXXX_XXX/nnUNetResEncUNetLPlans_noResampling.json\n",
    "\n",
    "# add a 3d_fullres_ps192_bs1 that sets batch size = 1 since we are gpu poor \n",
    "\n",
    "# preprocess the dataset\n",
    "nnUNetv2_preprocess -d 2 -np 12 -plans_name nnUNetResEncUNetLPlans_noResampling -c 3d_fullres_ps192_bs1\n",
    "\n",
    "\n",
    "# define a custom trainer in  nnUNet/nnunetv2/training/nnUNetTrainer/CustomTrainer.py\n",
    "# train using the custom trainer with our preprocessing steps\n",
    "nnUNetv2_train 2 3d_fullres_ps192 0 -p nnUNetResEncUNetLPlans_noResampling -tr CustomTrainer --num_gpus 1"
   ]
  },
  {
   "cell_type": "code",
   "execution_count": 10,
   "metadata": {},
   "outputs": [
    {
     "name": "stdout",
     "output_type": "stream",
     "text": [
      "Building network architecture with 8 input channels\n"
     ]
    }
   ],
   "source": [
    "# cp nnInteractive_v1.0/inference_session_class.json to $nnUNet_results/DatasetXXX_XXX/CustomTrainer__nnUNetResEncUNetLPlans_noResampling__3d_fullres_ps192_bs1\n",
    "\n",
    "# weights are ready to be picked by the nnInteractive.inference.inference_session class\n",
    "import torch\n",
    "from nnInteractive.inference.inference_session import nnInteractiveInferenceSession\n",
    "session = nnInteractiveInferenceSession(\n",
    "    device=torch.device(\"cuda:0\"),  # Set inference device\n",
    "    use_torch_compile=False,  # Experimental: Not tested yet\n",
    "    verbose=False,\n",
    "    torch_n_threads=os.cpu_count(),  # Use available CPU cores\n",
    "    do_autozoom=True,  # Enables AutoZoom for better patching\n",
    "    use_pinned_memory=True,  # Optimizes GPU memory transfers\n",
    ")\n",
    "\n",
    "# Load the trained model\n",
    "model_path = os.path.join(os.environ[\"nnUNet_results\"], \"Dataset002_CT_Abdomen1K/CustomTrainer__nnUNetResEncUNetLPlans_noResampling__3d_fullres_ps192_bs1\")\n",
    "session.initialize_from_trained_model_folder(model_path)\n"
   ]
  },
  {
   "cell_type": "code",
   "execution_count": 17,
   "metadata": {},
   "outputs": [
    {
     "data": {
      "text/plain": [
       "{'DATA_DIR': '/nfs/data/nii/data1/Analysis/GPUnet/ANALYSIS_incontext/SegFM3D/data',\n",
       " 'RESULTS_DIR': '/nfs/data/nii/data1/Analysis/GPUnet/ANALYSIS_incontext/SegFM3D/results',\n",
       " 'SAM_CKPT_PATH': '/nfs/norasys/notebooks/camaret/SAM-Med3D/ckpt/sam_med3d_turbo_bbox_cvpr.pth',\n",
       " 'SAM_REPO_DIR': '/nfs/norasys/notebooks/camaret/SAM-Med3D',\n",
       " 'ONNX_MODEL_PATH': '/nfs/norasys/notebooks/camaret/model_inference/models/sammed3d.onnx',\n",
       " 'NNINT_CKPT_DIR': '/nfs/norasys/notebooks/camaret/model_checkpoints/nnint'}"
      ]
     },
     "execution_count": 17,
     "metadata": {},
     "output_type": "execute_result"
    }
   ],
   "source": [
    "config"
   ]
  },
  {
   "cell_type": "code",
   "execution_count": 22,
   "metadata": {},
   "outputs": [
    {
     "ename": "RuntimeError",
     "evalue": "Error(s) in loading state_dict for ResidualEncoderUNet:\n\tsize mismatch for encoder.stem.convs.0.conv.weight: copying a param with shape torch.Size([32, 1, 3, 3, 3]) from checkpoint, the shape in current model is torch.Size([32, 8, 3, 3, 3]).\n\tsize mismatch for encoder.stem.convs.0.all_modules.0.weight: copying a param with shape torch.Size([32, 1, 3, 3, 3]) from checkpoint, the shape in current model is torch.Size([32, 8, 3, 3, 3]).\n\tsize mismatch for decoder.encoder.stem.convs.0.conv.weight: copying a param with shape torch.Size([32, 1, 3, 3, 3]) from checkpoint, the shape in current model is torch.Size([32, 8, 3, 3, 3]).\n\tsize mismatch for decoder.encoder.stem.convs.0.all_modules.0.weight: copying a param with shape torch.Size([32, 1, 3, 3, 3]) from checkpoint, the shape in current model is torch.Size([32, 8, 3, 3, 3]).",
     "output_type": "error",
     "traceback": [
      "\u001b[31m---------------------------------------------------------------------------\u001b[39m",
      "\u001b[31mRuntimeError\u001b[39m                              Traceback (most recent call last)",
      "\u001b[36mCell\u001b[39m\u001b[36m \u001b[39m\u001b[32mIn[22]\u001b[39m\u001b[32m, line 43\u001b[39m\n\u001b[32m     33\u001b[39m     trainer_class = nnInteractiveTrainer_stub\n\u001b[32m     35\u001b[39m network = trainer_class.build_network_architecture(\n\u001b[32m     36\u001b[39m     configuration_manager.network_arch_class_name,\n\u001b[32m     37\u001b[39m     configuration_manager.network_arch_init_kwargs,\n\u001b[32m   (...)\u001b[39m\u001b[32m     41\u001b[39m     enable_deep_supervision=\u001b[38;5;28;01mFalse\u001b[39;00m\n\u001b[32m     42\u001b[39m ).to(device)\n\u001b[32m---> \u001b[39m\u001b[32m43\u001b[39m \u001b[43mnetwork\u001b[49m\u001b[43m.\u001b[49m\u001b[43mload_state_dict\u001b[49m\u001b[43m(\u001b[49m\u001b[43mparameters\u001b[49m\u001b[43m)\u001b[49m\n\u001b[32m     49\u001b[39m model_info = {\n\u001b[32m     50\u001b[39m     \u001b[33m\"\u001b[39m\u001b[33mmodel_type\u001b[39m\u001b[33m\"\u001b[39m: \u001b[38;5;28mtype\u001b[39m(network).\u001b[34m__name__\u001b[39m,\n\u001b[32m     51\u001b[39m     \u001b[33m\"\u001b[39m\u001b[33mmodel_module\u001b[39m\u001b[33m\"\u001b[39m: \u001b[38;5;28mtype\u001b[39m(network).\u001b[34m__module__\u001b[39m,\n\u001b[32m   (...)\u001b[39m\u001b[32m     58\u001b[39m     \u001b[33m\"\u001b[39m\u001b[33mnetwork_arch_init_kwargs_req_import\u001b[39m\u001b[33m\"\u001b[39m: configuration_manager.network_arch_init_kwargs_req_import\n\u001b[32m     59\u001b[39m }\n\u001b[32m     61\u001b[39m \u001b[38;5;28mprint\u001b[39m(\u001b[33m\"\u001b[39m\u001b[33mModel Info:\u001b[39m\u001b[33m\"\u001b[39m)\n",
      "\u001b[36mFile \u001b[39m\u001b[32m/software/anaconda3/envs/segfm3d_2/lib/python3.12/site-packages/torch/nn/modules/module.py:2581\u001b[39m, in \u001b[36mModule.load_state_dict\u001b[39m\u001b[34m(self, state_dict, strict, assign)\u001b[39m\n\u001b[32m   2573\u001b[39m         error_msgs.insert(\n\u001b[32m   2574\u001b[39m             \u001b[32m0\u001b[39m,\n\u001b[32m   2575\u001b[39m             \u001b[33m\"\u001b[39m\u001b[33mMissing key(s) in state_dict: \u001b[39m\u001b[38;5;132;01m{}\u001b[39;00m\u001b[33m. \u001b[39m\u001b[33m\"\u001b[39m.format(\n\u001b[32m   2576\u001b[39m                 \u001b[33m\"\u001b[39m\u001b[33m, \u001b[39m\u001b[33m\"\u001b[39m.join(\u001b[33mf\u001b[39m\u001b[33m'\u001b[39m\u001b[33m\"\u001b[39m\u001b[38;5;132;01m{\u001b[39;00mk\u001b[38;5;132;01m}\u001b[39;00m\u001b[33m\"\u001b[39m\u001b[33m'\u001b[39m \u001b[38;5;28;01mfor\u001b[39;00m k \u001b[38;5;129;01min\u001b[39;00m missing_keys)\n\u001b[32m   2577\u001b[39m             ),\n\u001b[32m   2578\u001b[39m         )\n\u001b[32m   2580\u001b[39m \u001b[38;5;28;01mif\u001b[39;00m \u001b[38;5;28mlen\u001b[39m(error_msgs) > \u001b[32m0\u001b[39m:\n\u001b[32m-> \u001b[39m\u001b[32m2581\u001b[39m     \u001b[38;5;28;01mraise\u001b[39;00m \u001b[38;5;167;01mRuntimeError\u001b[39;00m(\n\u001b[32m   2582\u001b[39m         \u001b[33m\"\u001b[39m\u001b[33mError(s) in loading state_dict for \u001b[39m\u001b[38;5;132;01m{}\u001b[39;00m\u001b[33m:\u001b[39m\u001b[38;5;130;01m\\n\u001b[39;00m\u001b[38;5;130;01m\\t\u001b[39;00m\u001b[38;5;132;01m{}\u001b[39;00m\u001b[33m\"\u001b[39m.format(\n\u001b[32m   2583\u001b[39m             \u001b[38;5;28mself\u001b[39m.\u001b[34m__class__\u001b[39m.\u001b[34m__name__\u001b[39m, \u001b[33m\"\u001b[39m\u001b[38;5;130;01m\\n\u001b[39;00m\u001b[38;5;130;01m\\t\u001b[39;00m\u001b[33m\"\u001b[39m.join(error_msgs)\n\u001b[32m   2584\u001b[39m         )\n\u001b[32m   2585\u001b[39m     )\n\u001b[32m   2586\u001b[39m \u001b[38;5;28;01mreturn\u001b[39;00m _IncompatibleKeys(missing_keys, unexpected_keys)\n",
      "\u001b[31mRuntimeError\u001b[39m: Error(s) in loading state_dict for ResidualEncoderUNet:\n\tsize mismatch for encoder.stem.convs.0.conv.weight: copying a param with shape torch.Size([32, 1, 3, 3, 3]) from checkpoint, the shape in current model is torch.Size([32, 8, 3, 3, 3]).\n\tsize mismatch for encoder.stem.convs.0.all_modules.0.weight: copying a param with shape torch.Size([32, 1, 3, 3, 3]) from checkpoint, the shape in current model is torch.Size([32, 8, 3, 3, 3]).\n\tsize mismatch for decoder.encoder.stem.convs.0.conv.weight: copying a param with shape torch.Size([32, 1, 3, 3, 3]) from checkpoint, the shape in current model is torch.Size([32, 8, 3, 3, 3]).\n\tsize mismatch for decoder.encoder.stem.convs.0.all_modules.0.weight: copying a param with shape torch.Size([32, 1, 3, 3, 3]) from checkpoint, the shape in current model is torch.Size([32, 8, 3, 3, 3])."
     ]
    }
   ],
   "source": [
    "from nnunetv2.utilities.label_handling.label_handling import determine_num_input_channels\n",
    "from nnunetv2.utilities.find_class_by_name import recursive_find_python_class\n",
    "\n",
    "from nnunetv2.utilities.plans_handling.plans_handler import PlansManager, ConfigurationManager\n",
    "from batchgenerators.utilities.file_and_folder_operations import load_json, join, subdirs\n",
    "from nnInteractive.trainer.nnInteractiveTrainer import nnInteractiveTrainer_stub\n",
    "\n",
    "import nnInteractive\n",
    "device = torch.device(\"cuda\" if torch.cuda.is_available() else \"cpu\")\n",
    "model_training_output_dir = model_path\n",
    "dataset_json = load_json(join(model_training_output_dir, 'dataset.json'))\n",
    "plans = load_json(os.path.join(model_training_output_dir, 'plans.json'))\n",
    "plans_manager = PlansManager(plans)\n",
    "checkpoint = torch.load(os.path.join(model_training_output_dir,\"fold_0/checkpoint_final.pth\"), map_location=device, weights_only=False)\n",
    "\n",
    "configuration_name = checkpoint['init_args']['configuration']\n",
    "\n",
    "parameters = checkpoint['network_weights']\n",
    "\n",
    "configuration_manager = plans_manager.get_configuration(configuration_name)\n",
    "\n",
    "trainer_name = checkpoint['trainer_name']\n",
    "\n",
    "num_input_channels = determine_num_input_channels(plans_manager, configuration_manager, dataset_json)\n",
    "\n",
    "\n",
    "trainer_class = recursive_find_python_class(join(nnInteractive.__path__[0], \"trainer\"),\n",
    "                                            trainer_name, 'nnInteractive.trainer')\n",
    "if trainer_class is None:\n",
    "    print(f'Unable to locate trainer class {trainer_name} in nnInteractive.trainer. '\n",
    "                        f'Please place it there (in any .py file)!')\n",
    "    print('Attempting to use default nnInteractiveTrainer_stub. If you encounter errors, this is where you need to look!')\n",
    "    trainer_class = nnInteractiveTrainer_stub\n",
    "\n",
    "network = trainer_class.build_network_architecture(\n",
    "    configuration_manager.network_arch_class_name,\n",
    "    configuration_manager.network_arch_init_kwargs,\n",
    "    configuration_manager.network_arch_init_kwargs_req_import,\n",
    "    num_input_channels,\n",
    "    plans_manager.get_label_manager(dataset_json).num_segmentation_heads,\n",
    "    enable_deep_supervision=False\n",
    ").to(device)\n",
    "network.load_state_dict(parameters)\n",
    "\n",
    "\n",
    "\n",
    "\n",
    "\n",
    "model_info = {\n",
    "    \"model_type\": type(network).__name__,\n",
    "    \"model_module\": type(network).__module__,\n",
    "    \"num_parameters\": sum(p.numel() for p in network.parameters()),\n",
    "    \"input_channels\": num_input_channels,\n",
    "    \"output_classes\": plans_manager.get_label_manager(dataset_json).num_segmentation_heads,\n",
    "    \"configuration_name\": configuration_name,\n",
    "    \"network_arch_class_name\": configuration_manager.network_arch_class_name,\n",
    "    \"network_arch_init_kwargs\": configuration_manager.network_arch_init_kwargs,\n",
    "    \"network_arch_init_kwargs_req_import\": configuration_manager.network_arch_init_kwargs_req_import\n",
    "}\n",
    "\n",
    "print(\"Model Info:\")\n",
    "for key, value in model_info.items():\n",
    "    print(f\"{key}: {value}\")\n",
    "print(\"Model loaded successfully.\")"
   ]
  },
  {
   "cell_type": "code",
   "execution_count": 21,
   "metadata": {},
   "outputs": [
    {
     "data": {
      "text/plain": [
       "1"
      ]
     },
     "execution_count": 21,
     "metadata": {},
     "output_type": "execute_result"
    }
   ],
   "source": [
    "num_input_channels"
   ]
  },
  {
   "cell_type": "code",
   "execution_count": 23,
   "metadata": {},
   "outputs": [
    {
     "data": {
      "text/plain": [
       "1"
      ]
     },
     "execution_count": 23,
     "metadata": {},
     "output_type": "execute_result"
    }
   ],
   "source": [
    "num_input_channels"
   ]
  }
 ],
 "metadata": {
  "kernelspec": {
   "display_name": "segfm3d_2",
   "language": "python",
   "name": "segfm3d_2"
  },
  "language_info": {
   "codemirror_mode": {
    "name": "ipython",
    "version": 3
   },
   "file_extension": ".py",
   "mimetype": "text/x-python",
   "name": "python",
   "nbconvert_exporter": "python",
   "pygments_lexer": "ipython3",
   "version": "3.12.9"
  }
 },
 "nbformat": 4,
 "nbformat_minor": 4
}
