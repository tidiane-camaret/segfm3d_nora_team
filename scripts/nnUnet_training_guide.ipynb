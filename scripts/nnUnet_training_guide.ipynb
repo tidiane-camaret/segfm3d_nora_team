{
 "cells": [
  {
   "cell_type": "markdown",
   "metadata": {},
   "source": [
    "Training a model using the nnUnet library \n",
    "see https://github.com/MIC-DKFZ/nnUNet/tree/master\n",
    "\n",
    "1 - Convert a subset the competition dataset to nnunet format\n",
    "2 - "
   ]
  },
  {
   "cell_type": "code",
   "execution_count": 2,
   "metadata": {},
   "outputs": [],
   "source": [
    "nnunet_dataset_name = \"Dataset007_AMOS\""
   ]
  },
  {
   "cell_type": "code",
   "execution_count": 3,
   "metadata": {},
   "outputs": [],
   "source": [
    "from src.config import config\n",
    "import os\n",
    "nnunet_train_dir = os.path.join(config[\"DATA_DIR\"], \"nnunet_raw\", nnunet_dataset_name)\n",
    "os.makedirs(nnunet_train_dir, exist_ok=True)\n",
    "os.makedirs(os.path.join(nnunet_train_dir, \"imagesTr\"), exist_ok=True)\n",
    "os.makedirs(os.path.join(nnunet_train_dir, \"imagesTs\"), exist_ok=True)\n",
    "os.makedirs(os.path.join(nnunet_train_dir, \"labelsTr\"), exist_ok=True)\n",
    "os.makedirs(os.path.join(nnunet_train_dir, \"labelsTs\"), exist_ok=True)\n"
   ]
  },
  {
   "cell_type": "code",
   "execution_count": 4,
   "metadata": {},
   "outputs": [
    {
     "data": {
      "text/plain": [
       "'\\n# or full dataset\\nfiles = [os.path.join(dp, f) for dp, dn, filenames in os.walk(os.path.join(config[\"DATA_DIR\"], \"3D_train_npz_random_10percent_16G\")) for f in filenames if os.path.splitext(f)[1] == \\'.npz\\']\\n'"
      ]
     },
     "execution_count": 4,
     "metadata": {},
     "output_type": "execute_result"
    }
   ],
   "source": [
    "# use only a subdir\n",
    "\n",
    "subset_name = \"CT/CT_AMOS\" # using a subset for now\n",
    "train_dir = os.path.join(config[\"DATA_DIR\"], \"3D_train_npz_random_10percent_16G\", subset_name)\n",
    "files = [os.path.join(train_dir,f) for f in os.listdir(train_dir) if os.path.splitext(f)[1] == '.npz']\n",
    "\"\"\"\n",
    "# or full dataset\n",
    "files = [os.path.join(dp, f) for dp, dn, filenames in os.walk(os.path.join(config[\"DATA_DIR\"], \"3D_train_npz_random_10percent_16G\")) for f in filenames if os.path.splitext(f)[1] == '.npz']\n",
    "\"\"\""
   ]
  },
  {
   "cell_type": "code",
   "execution_count": 5,
   "metadata": {},
   "outputs": [
    {
     "data": {
      "text/plain": [
       "30"
      ]
     },
     "execution_count": 5,
     "metadata": {},
     "output_type": "execute_result"
    }
   ],
   "source": [
    "len(files)\n",
    "#files = files[:1]"
   ]
  },
  {
   "cell_type": "code",
   "execution_count": 6,
   "metadata": {},
   "outputs": [
    {
     "name": "stdout",
     "output_type": "stream",
     "text": [
      "shape: (59, 512, 512)\n",
      "shape: (76, 512, 512)\n",
      "shape: (66, 512, 512)\n",
      "shape: (61, 512, 512)\n",
      "spacing: [0.78200001 0.78200001 5.        ]spacing: [0.97265625 0.97265625 5.        ]spacing: [0.78200001 0.78200001 5.        ]\n",
      "spacing: [0.78200001 0.78200001 5.        ]\n",
      "\n",
      "\n",
      "shape: (73, 512, 512)\n",
      "spacing: [0.90399998 0.90399998 5.        ]\n",
      "shape: (58, 768, 768)\n",
      "spacing: [0.65104169 0.65104169 5.        ]\n",
      "shape: (105, 512, 512)\n",
      "spacing: [0.83099997 0.83099997 5.        ]\n",
      "shape: (108, 512, 512)\n",
      "spacing: [0.75585902 0.75585902 2.5       ]\n",
      "shape: (77, 512, 512)\n",
      "spacing: [0.72265625 0.72265625 5.        ]\n",
      "shape: (58, 768, 768)\n",
      "spacing: [0.5703125 0.5703125 5.       ]\n",
      "shape: (118, 512, 512)\n",
      "spacing: [0.63085902 0.63085902 2.5       ]\n",
      "shape: (88, 768, 768)\n",
      "spacing: [0.5078125 0.5078125 5.       ]\n",
      "shape: (111, 512, 512)\n",
      "spacing: [0.67578125 0.67578125 5.        ]\n",
      "shape: (147, 512, 512)\n",
      "spacing: [0.5703125 0.5703125 2.       ]\n",
      "[ 0  1  2  3  4  5  6  7  8  9 10 11 12 13 14 15]\n",
      "[ 0  1  2  3  4  5  6  7  8  9 10 11 12 13 14 15]\n",
      "[ 0  1  2  3  4  5  6  7  8  9 10 11 12 13 14 15]\n",
      "[ 0  1  2  3  4  5  6  7  8  9 10 11 12 13 14 15]\n",
      "[ 0  1  2  3  4  5  6  7  8  9 10 11 12 13 14 15]\n",
      "[ 0  1  2  3  4  5  6  7  8  9 10 11 12 13 14 15]\n",
      "[ 0  1  2  3  4  5  6  7  8  9 10 11 12 13 14 15]\n",
      "[ 0  2  3  4  5  6  7  8  9 10 11 12 13 14 15]\n",
      "shape: (161, 512, 512)\n",
      "spacing: [0.77148438 0.77148438 2.        ]\n",
      "shape: (59, 768, 768)\n",
      "spacing: [0.47265625 0.47265625 5.        ]\n",
      "shape: (139, 512, 512)\n",
      "spacing: [0.71875 0.71875 2.     ]\n",
      "[ 0  1  2  3  4  5  6  7  8  9 10 11 12 13 14 15]\n",
      "[ 0  1  2  3  4  5  6  7  8  9 10 11 12 13 14 15]\n",
      "shape: (260, 512, 512)\n",
      "spacing: [0.703125 0.703125 1.25    ]\n",
      "[ 0  1  2  3  4  5  6  7  8  9 10 11 12 13 14 15]\n",
      "[ 0  1  2  3  4  5  6  7  8  9 10 11 12 13 14 15]\n",
      "shape: (51, 768, 768)\n",
      "spacing: [0.48307291 0.48307291 5.        ]\n",
      "shape: (57, 512, 512)\n",
      "spacing: [0.82700002 0.82700002 5.        ]\n",
      "[ 0  1  2  3  4  5  6  7  8  9 10 11 12 13 14 15]\n",
      "shape: (61, 768, 768)\n",
      "spacing: [0.52473956 0.52473956 5.        ]\n",
      "shape: (57, 768, 768)\n",
      "spacing: [0.44791666 0.44791666 5.        ]\n",
      "[ 0  1  2  3  4  5  6  7  8  9 10 11 12 13]\n",
      "[ 0  1  2  3  4  5  6  7  8  9 10 11 12 13 14 15]\n",
      "shape: (96, 512, 512)\n",
      "spacing: [0.59765625 0.59765625 5.        ]\n",
      "shape: (89, 768, 768)\n",
      "spacing: [0.64583331 0.64583331 5.        ]\n",
      "shape: (101, 512, 512)\n",
      "spacing: [0.78200001 0.78200001 5.        ]\n",
      "[ 0  2  3  4  5  6  7  8  9 10 11 12 13 14 15]\n",
      "[ 0  1  2  3  4  5  6  7  8  9 10 11 12 13 14 15]\n",
      "shape: (63, 768, 768)\n",
      "spacing: [0.65104169 0.65104169 5.        ]\n",
      "[ 0  1  2  3  4  5  6  7  8  9 10 11 12 13 14 15]\n",
      "shape: (142, 512, 512)\n",
      "shape: (158, 512, 512)\n",
      "spacing: [0.58398438 0.58398438 2.        ]\n",
      "spacing: [0.765625 0.765625 2.      ]\n",
      "[ 0  1  2  3  4  5  6  7  8  9 10 11 12 13 14 15]\n",
      "[ 0  1  2  3  4  5  6  7  8  9 10 11 12 13 14 15]\n",
      "[ 0  1  2  3  4  5  6  7  8  9 10 11 12 13 14 15]\n",
      "shape: (71, 768, 768)\n",
      "spacing: [0.46223959 0.46223959 5.        ]\n",
      "[ 0  1  2  3  4  5  6  7  8  9 10 11 12 13 14 15]\n",
      "shape: (62, 768, 768)\n",
      "spacing: [0.609375 0.609375 5.      ]\n",
      "[ 0  1  2  3  5  6  7  8  9 10 11 12 13 14 15]\n",
      "[ 0  1  2  3  4  5  6  7  8  9 10 11 12 13 14]\n",
      "[ 0  1  2  3  4  5  6  7  8  9 10 11 12 13 14 15]\n",
      "[ 0  1  2  3  4  5  6  7  8  9 10 11 12 13 14 15]\n",
      "[ 0  1  2  3  4  5  6  7  8  9 10 11 12 13 14 15]\n",
      "[ 0  1  2  3  4  5  6  7  8  9 10 11 12 13 14 15]\n",
      "[ 0  1  2  3  4  5  6  7  8  9 10 11 12 13 14 15]\n",
      "[ 0  1  2  3  4  5  6  7  8  9 10 11 12 13 14 15]\n",
      "Processed 30 files successfully\n"
     ]
    }
   ],
   "source": [
    "import numpy as np\n",
    "import nibabel as nib\n",
    "import os\n",
    "from multiprocessing import Pool\n",
    "from functools import partial\n",
    "\n",
    "def process_file(file_info, train_dir, nnunet_train_dir, total_files):\n",
    "    i, file = file_info\n",
    "    subset = \"Tr\" if i < total_files * 0.8 else \"Ts\"\n",
    "    #print(f\"file : {os.path.basename(file)}, {i}/{total_files}\")\n",
    "    \n",
    "    data = np.load( file, allow_pickle=True)\n",
    "    imgs = data[\"imgs\"]\n",
    "    spacing = data[\"spacing\"]\n",
    "    print(f\"shape: {imgs.shape}\")\n",
    "    print(f\"spacing: {spacing}\")\n",
    "    spacing = spacing[2], spacing[1], spacing[0]  # Adjusting to match NIfTI format (z, y, x)\n",
    "    \n",
    "    # Create affine matrix\n",
    "    affine = np.eye(4)\n",
    "    affine[0, 0] = data[\"spacing\"][0]\n",
    "    affine[1, 1] = data[\"spacing\"][1]\n",
    "    affine[2, 2] = data[\"spacing\"][2]\n",
    "    \n",
    "    # Save images\n",
    "    nib_img = nib.Nifti1Image(imgs, affine=affine)\n",
    "    nib.save(nib_img, os.path.join(nnunet_train_dir, \"images\"+subset, os.path.basename(file).replace(\".npz\", \"_0000.nii.gz\")))\n",
    "    \n",
    "    # Process and save ground truth\n",
    "    gts = data[\"gts\"]\n",
    "    print(np.unique(gts))\n",
    "    #gts = (gts == 1).astype(np.int8)\n",
    "    nib_gt = nib.Nifti1Image(gts, affine=affine)\n",
    "    nib.save(nib_gt, os.path.join(nnunet_train_dir, \"labels\"+subset, os.path.basename(file).replace(\".npz\", \".nii.gz\")))\n",
    "    \n",
    "    return file\n",
    "\n",
    "# Main execution\n",
    "# Create list of (index, filename) tuples\n",
    "file_list = [(i, file) for i, file in enumerate(files)]\n",
    "\n",
    "# Create partial function with fixed arguments\n",
    "process_func = partial(process_file, \n",
    "                      train_dir=train_dir, \n",
    "                      nnunet_train_dir=nnunet_train_dir, \n",
    "                      total_files=len(files))\n",
    "\n",
    "# Use 14 cores (leave 2 for system)\n",
    "with Pool(processes=14) as pool:\n",
    "    results = pool.map(process_func, file_list)\n",
    "\n",
    "print(f\"Processed {len(results)} files successfully\")"
   ]
  },
  {
   "cell_type": "code",
   "execution_count": 7,
   "metadata": {},
   "outputs": [
    {
     "name": "stdout",
     "output_type": "stream",
     "text": [
      "Image shape: (66, 512, 512)\n"
     ]
    },
    {
     "data": {
      "text/plain": [
       "<matplotlib.image.AxesImage at 0x7ff33ea76fc0>"
      ]
     },
     "execution_count": 7,
     "metadata": {},
     "output_type": "execute_result"
    },
    {
     "data": {
      "image/png": "[encoded data removed]",
      "text/plain": [
       "<Figure size 640x480 with 1 Axes>"
      ]
     },
     "metadata": {},
     "output_type": "display_data"
    }
   ],
   "source": [
    "len(os.listdir(os.path.join(nnunet_train_dir,\"labelsTr\")))\n",
    "# visualize one of the images\n",
    "import matplotlib.pyplot as plt\n",
    "import nibabel as nib\n",
    "from numpy import spacing\n",
    "img_path = os.path.join(nnunet_train_dir, \"labelsTr\", os.listdir(os.path.join(nnunet_train_dir, \"labelsTr\"))[0])\n",
    "img = nib.load(img_path)\n",
    "img_data = img.get_fdata()\n",
    "spacing = img.header.get_zooms()\n",
    "print(f\"Image shape: {img_data.shape}\")\n",
    "gt1 = img_data == 1\n",
    "plt.imshow(gt1.mean(axis=0),)\n",
    "\n",
    "    "
   ]
  },
  {
   "cell_type": "code",
   "execution_count": 8,
   "metadata": {},
   "outputs": [],
   "source": [
    "#export the variables for dataset location (see https://github.com/MIC-DKFZ/nnUNet/blob/master/documentation/set_environment_variables.md)\n",
    "import os\n",
    "os.environ[\"nnUNet_raw\"] = os.path.join(config[\"DATA_DIR\"], \"nnunet_raw\")\n",
    "os.environ[\"nnUNet_preprocessed\"] = os.path.join(config[\"DATA_DIR\"], \"nnUNet_preprocessed\") \n",
    "os.environ[\"nnUNet_results\"] = os.path.join(config[\"DATA_DIR\"], \"nnUNet_results\")\n",
    "os.environ[\"NNINT_CKPT_DIR\"] = config[\"NNINT_CKPT_DIR\"]"
   ]
  },
  {
   "cell_type": "code",
   "execution_count": 9,
   "metadata": {},
   "outputs": [
    {
     "name": "stdout",
     "output_type": "stream",
     "text": [
      "export nnUNet_raw=/nfs/data/nii/data1/Analysis/GPUnet/ANALYSIS_incontext/SegFM3D/data/nnunet_raw\n",
      "export nnUNet_preprocessed=/nfs/data/nii/data1/Analysis/GPUnet/ANALYSIS_incontext/SegFM3D/data/nnUNet_preprocessed\n",
      "export nnUNet_results=/nfs/data/nii/data1/Analysis/GPUnet/ANALYSIS_incontext/SegFM3D/data/nnUNet_results\n",
      "export NNINT_CKPT_DIR=/nfs/norasys/notebooks/camaret/model_checkpoints/nnint\n"
     ]
    }
   ],
   "source": [
    "# easy paste when using a terminal\n",
    "for var_name in [\"nnUNet_raw\", \"nnUNet_preprocessed\", \"nnUNet_results\",\"NNINT_CKPT_DIR\"]:\n",
    "    print(\"export \" + var_name + \"=\" + os.environ[var_name])"
   ]
  },
  {
   "cell_type": "code",
   "execution_count": null,
   "metadata": {
    "vscode": {
     "languageId": "bat"
    }
   },
   "outputs": [
    {
     "ename": "SyntaxError",
     "evalue": "invalid decimal literal (2039321317.py, line 3)",
     "output_type": "error",
     "traceback": [
      "  \u001b[36mCell\u001b[39m\u001b[36m \u001b[39m\u001b[32mIn[10]\u001b[39m\u001b[32m, line 3\u001b[39m\n\u001b[31m    \u001b[39m\u001b[31m--time=2-0 --nodelist=loki --gpus-per-node=2  --cpus-per-task=16 --mem=64G\u001b[39m\n                                                                            ^\n\u001b[31mSyntaxError\u001b[39m\u001b[31m:\u001b[39m invalid decimal literal\n"
     ]
    }
   ],
   "source": [
    "# Ressource request on nora\n",
    "\n",
    "--time=2-0 --nodelist=loki --gpus-per-node=1  --cpus-per-task=16 --mem=64G\n",
    "\n",
    "source /software/anaconda3/etc/profile.d/conda.sh\n",
    "conda activate segfm3d_2\n",
    "cd /nfs/norasys/notebooks/camaret/segfm3d_nora_team\n",
    "/software/inetaccess/inetaccess camaret\n",
    "\n",
    "export TORCH_COMPILE_DISABLE=1"
   ]
  },
  {
   "cell_type": "markdown",
   "metadata": {},
   "source": [
    "using nninteractive plans :"
   ]
  },
  {
   "cell_type": "code",
   "execution_count": null,
   "metadata": {},
   "outputs": [],
   "source": [
    "nnUNetv2_extract_fingerprint -d 7 --verify_dataset_integrity\n",
    "\n",
    "\n",
    "# a) using ResEnc plans : \n",
    "nnUNetv2_plan_experiment -d 7 -pl nnUNetPlannerResEncL\n",
    "nnUNetv2_preprocess -d 7 -c 3d_fullres\n",
    "\n",
    "\n",
    "# b) using plans from nnInteractive_v1.0 :\n",
    "# cp nnInteractive_v1.0/plans.json $nnUNet_preprocessed/DatasetXXX_XXX/nnUNetResEncUNetLPlans_noResampling.json\n",
    "# in nnUNetResEncUNetLPlans_noResampling.json :\n",
    "# change the \"dataset_name\" field to the current one\n",
    "# change the \"resampling...\" fields to another method since we cannot access \"no_resampling_hack\" (e.g. \"resample_data_or_seg_to_shape\")\n",
    "# add a method 3d_fullres_ps192_bs1 that sets batch size = 1 since we are gpu poor \n",
    "\n",
    "# preprocess the dataset\n",
    "nnUNetv2_preprocess -d 6 -np 12 -plans_name nnUNetResEncUNetLPlans_noResampling -c 3d_fullres_ps192_bs1\n",
    "\n",
    "\n",
    "# define a custom trainer in  nnUNet/nnunetv2/training/nnUNetTrainer/CustomTrainer.py\n",
    "# train using the custom trainer with our preprocessing steps\n",
    "nnUNetv2_train 6 3d_fullres_ps192 0 -p nnUNetResEncUNetLPlans_noResampling -tr CustomTrainer -num_gpus 1 -pretrained_weights $NNINT_CKPT_DIR/nnInteractive_v1.0/fold_0/checkpoint_final.pth\n",
    "# additional args : \n",
    "-num_gpus 1 -pretrained_weights /nfs/data/nii/data1/Analysis/GPUnet/ANALYSIS_incontext/SegFM3D/checkpoints/nnInteractive_v1.0/fold_0/checkpoint_final.pth"
   ]
  },
  {
   "cell_type": "code",
   "execution_count": null,
   "metadata": {},
   "outputs": [],
   "source": [
    "# cp nnInteractive_v1.0/inference_session_class.json to $nnUNet_results/DatasetXXX_XXX/CustomTrainer__nnUNetResEncUNetLPlans_noResampling__3d_fullres_ps192_bs1\n",
    "\n",
    "# weights are ready to be picked by the nnInteractive.inference.inference_session class\n",
    "import torch\n",
    "from nnInteractive.inference.inference_session import nnInteractiveInferenceSession\n",
    "session = nnInteractiveInferenceSession(\n",
    "    device=torch.device(\"cpu\"),  # Set inference device\n",
    "    use_torch_compile=False,  # Experimental: Not tested yet\n",
    "    verbose=False,\n",
    "    torch_n_threads=1,  # Use available CPU cores\n",
    "    do_autozoom=True,  # Enables AutoZoom for better patching\n",
    "    use_pinned_memory=True,  # Optimizes GPU memory transfers\n",
    ")\n",
    "\n",
    "\n"
   ]
  },
  {
   "cell_type": "code",
   "execution_count": null,
   "metadata": {},
   "outputs": [
    {
     "name": "stdout",
     "output_type": "stream",
     "text": [
      "Building network architecture with 8 input channels\n"
     ]
    }
   ],
   "source": [
    "# Load the trained model\n",
    "model_training_output_dir = os.path.join(os.environ[\"nnUNet_results\"], \"Dataset002_CT_Abdomen1K/CustomTrainer__nnUNetResEncUNetLPlans_noResampling__3d_fullres_ps192_bs1\")\n",
    "model_training_output_dir = os.path.join(os.environ[\"nnUNet_results\"], \"Dataset006_AMOS/CustomTrainer__nnUNetResEncUNetLPlans_noResampling__3d_fullres_ps192\")\n",
    "\n",
    "session.initialize_from_trained_model_folder(model_training_output_dir)"
   ]
  },
  {
   "cell_type": "code",
   "execution_count": null,
   "metadata": {},
   "outputs": [],
   "source": [
    "# evaluating the trained model on the segfm3d task : \n",
    "python scripts/eval.py -ca 0 -m nnint_custom --checkpoint_path /nfs/data/nii/data1/Analysis/GPUnet/ANALYSIS_incontext/SegFM3D/data/nnUNet_results/Dataset006_AMOS/CustomTrainer__nnUNetResEncUNetLPlans_noResampling__3d_fullres_ps192\n",
    "python scripts/eval.py -ca 0 -m nnint_custom --checkpoint_path $NNINT_CKPT_DIR/nnInteractive_ours\n",
    "\n",
    "python scripts/eval.py -ca 0 -m nnint_custom --checkpoint_path $nnUNet_results/Dataset006_AMOS/CustomTrainer__nnUNetResEncUNetLPlans_noResampling__3d_fullres_ps192\n"
   ]
  },
  {
   "cell_type": "code",
   "execution_count": null,
   "metadata": {},
   "outputs": [
    {
     "name": "stdout",
     "output_type": "stream",
     "text": [
      "Building network architecture with 8 input channels\n",
      "Model Info:\n",
      "model_type: ResidualEncoderUNet\n",
      "model_module: dynamic_network_architectures.architectures.unet\n",
      "num_parameters: 102355818\n",
      "input_channels: 1\n",
      "output_classes: 2\n",
      "configuration_name: 3d_fullres_ps192_bs1\n",
      "network_arch_class_name: dynamic_network_architectures.architectures.unet.ResidualEncoderUNet\n",
      "network_arch_init_kwargs: {'n_stages': 6, 'features_per_stage': [32, 64, 128, 256, 320, 320], 'conv_op': 'torch.nn.modules.conv.Conv3d', 'kernel_sizes': [[3, 3, 3], [3, 3, 3], [3, 3, 3], [3, 3, 3], [3, 3, 3], [3, 3, 3]], 'strides': [[1, 1, 1], [2, 2, 2], [2, 2, 2], [2, 2, 2], [2, 2, 2], [2, 2, 2]], 'n_blocks_per_stage': [1, 3, 4, 6, 6, 6], 'n_conv_per_stage_decoder': [1, 1, 1, 1, 1], 'conv_bias': True, 'norm_op': 'torch.nn.modules.instancenorm.InstanceNorm3d', 'norm_op_kwargs': {'eps': 1e-05, 'affine': True}, 'dropout_op': None, 'dropout_op_kwargs': None, 'nonlin': 'torch.nn.LeakyReLU', 'nonlin_kwargs': {'inplace': True}}\n",
      "network_arch_init_kwargs_req_import: ['conv_op', 'norm_op', 'dropout_op', 'nonlin']\n",
      "Model loaded successfully.\n"
     ]
    }
   ],
   "source": [
    "\n",
    "# Also possible to avoid the nnInteractive class alltogether\n",
    "\n",
    "from nnunetv2.utilities.label_handling.label_handling import determine_num_input_channels\n",
    "from nnunetv2.utilities.find_class_by_name import recursive_find_python_class\n",
    "\n",
    "from nnunetv2.utilities.plans_handling.plans_handler import PlansManager, ConfigurationManager\n",
    "from batchgenerators.utilities.file_and_folder_operations import load_json, join, subdirs\n",
    "from nnInteractive.trainer.nnInteractiveTrainer import nnInteractiveTrainer_stub\n",
    "\n",
    "import nnInteractive\n",
    "device = torch.device(\"cuda\" if torch.cuda.is_available() else \"cpu\")\n",
    "dataset_json = load_json(join(model_training_output_dir, 'dataset.json'))\n",
    "plans = load_json(os.path.join(model_training_output_dir, 'plans.json'))\n",
    "plans_manager = PlansManager(plans)\n",
    "checkpoint = torch.load(os.path.join(model_training_output_dir,\"fold_0/checkpoint_final.pth\"), map_location=device, weights_only=False)\n",
    "\n",
    "configuration_name = checkpoint['init_args']['configuration']\n",
    "\n",
    "parameters = checkpoint['network_weights']\n",
    "\n",
    "configuration_manager = plans_manager.get_configuration(configuration_name)\n",
    "\n",
    "trainer_name = checkpoint['trainer_name']\n",
    "\n",
    "num_input_channels = determine_num_input_channels(plans_manager, configuration_manager, dataset_json)\n",
    "\n",
    "\n",
    "trainer_class = recursive_find_python_class(join(nnInteractive.__path__[0], \"trainer\"),\n",
    "                                            trainer_name, 'nnInteractive.trainer')\n",
    "if trainer_class is None:\n",
    "    print(f'Unable to locate trainer class {trainer_name} in nnInteractive.trainer. '\n",
    "                        f'Please place it there (in any .py file)!')\n",
    "    print('Attempting to use default nnInteractiveTrainer_stub. If you encounter errors, this is where you need to look!')\n",
    "    trainer_class = nnInteractiveTrainer_stub\n",
    "\n",
    "network = trainer_class.build_network_architecture(\n",
    "    configuration_manager.network_arch_class_name,\n",
    "    configuration_manager.network_arch_init_kwargs,\n",
    "    configuration_manager.network_arch_init_kwargs_req_import,\n",
    "    num_input_channels,\n",
    "    plans_manager.get_label_manager(dataset_json).num_segmentation_heads,\n",
    "    enable_deep_supervision=False\n",
    ").to(device)\n",
    "network.load_state_dict(parameters)\n",
    "\n",
    "\n",
    "\n",
    "\n",
    "\n",
    "model_info = {\n",
    "    \"model_type\": type(network).__name__,\n",
    "    \"model_module\": type(network).__module__,\n",
    "    \"num_parameters\": sum(p.numel() for p in network.parameters()),\n",
    "    \"input_channels\": num_input_channels,\n",
    "    \"output_classes\": plans_manager.get_label_manager(dataset_json).num_segmentation_heads,\n",
    "    \"configuration_name\": configuration_name,\n",
    "    \"network_arch_class_name\": configuration_manager.network_arch_class_name,\n",
    "    \"network_arch_init_kwargs\": configuration_manager.network_arch_init_kwargs,\n",
    "    \"network_arch_init_kwargs_req_import\": configuration_manager.network_arch_init_kwargs_req_import\n",
    "}\n",
    "\n",
    "print(\"Model Info:\")\n",
    "for key, value in model_info.items():\n",
    "    print(f\"{key}: {value}\")\n",
    "print(\"Model loaded successfully.\")"
   ]
  },
  {
   "cell_type": "code",
   "execution_count": null,
   "metadata": {},
   "outputs": [
    {
     "data": {
      "text/plain": [
       "{'DATA_DIR': '/nfs/data/nii/data1/Analysis/GPUnet/ANALYSIS_incontext/SegFM3D/data',\n",
       " 'RESULTS_DIR': '/nfs/data/nii/data1/Analysis/GPUnet/ANALYSIS_incontext/SegFM3D/results',\n",
       " 'SAM_CKPT_PATH': '/nfs/norasys/notebooks/camaret/SAM-Med3D/ckpt/sam_med3d_turbo_bbox_cvpr.pth',\n",
       " 'SAM_REPO_DIR': '/nfs/norasys/notebooks/camaret/SAM-Med3D',\n",
       " 'ONNX_MODEL_PATH': '/nfs/norasys/notebooks/camaret/model_inference/models/sammed3d.onnx',\n",
       " 'NNINT_CKPT_DIR': '/nfs/norasys/notebooks/camaret/model_checkpoints/nnint'}"
      ]
     },
     "execution_count": 5,
     "metadata": {},
     "output_type": "execute_result"
    }
   ],
   "source": [
    "config"
   ]
  }
 ],
 "metadata": {
  "kernelspec": {
   "display_name": "segfm3d_2",
   "language": "python",
   "name": "segfm3d_2"
  },
  "language_info": {
   "codemirror_mode": {
    "name": "ipython",
    "version": 3
   },
   "file_extension": ".py",
   "mimetype": "text/x-python",
   "name": "python",
   "nbconvert_exporter": "python",
   "pygments_lexer": "ipython3",
   "version": "3.12.9"
  }
 },
 "nbformat": 4,
 "nbformat_minor": 4
}
